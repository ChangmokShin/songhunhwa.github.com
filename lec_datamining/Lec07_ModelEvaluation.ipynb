{
 "cells": [
  {
   "cell_type": "code",
   "execution_count": 7,
   "metadata": {
    "collapsed": true
   },
   "outputs": [],
   "source": [
    "import pandas as pd\n",
    "import numpy as np\n",
    "import matplotlib.pyplot as plt\n",
    "%matplotlib inline"
   ]
  },
  {
   "cell_type": "markdown",
   "metadata": {},
   "source": [
    "### K-fold Cross Validation"
   ]
  },
  {
   "cell_type": "code",
   "execution_count": 8,
   "metadata": {
    "collapsed": true
   },
   "outputs": [],
   "source": [
    "from sklearn.datasets import load_boston\n",
    "\n",
    "boston = load_boston()"
   ]
  },
  {
   "cell_type": "code",
   "execution_count": 9,
   "metadata": {
    "collapsed": false
   },
   "outputs": [
    {
     "data": {
      "text/html": [
       "<div>\n",
       "<style scoped>\n",
       "    .dataframe tbody tr th:only-of-type {\n",
       "        vertical-align: middle;\n",
       "    }\n",
       "\n",
       "    .dataframe tbody tr th {\n",
       "        vertical-align: top;\n",
       "    }\n",
       "\n",
       "    .dataframe thead th {\n",
       "        text-align: right;\n",
       "    }\n",
       "</style>\n",
       "<table border=\"1\" class=\"dataframe\">\n",
       "  <thead>\n",
       "    <tr style=\"text-align: right;\">\n",
       "      <th></th>\n",
       "      <th>CRIM</th>\n",
       "      <th>ZN</th>\n",
       "      <th>INDUS</th>\n",
       "      <th>CHAS</th>\n",
       "      <th>NOX</th>\n",
       "      <th>RM</th>\n",
       "      <th>AGE</th>\n",
       "      <th>DIS</th>\n",
       "      <th>RAD</th>\n",
       "      <th>TAX</th>\n",
       "      <th>PTRATIO</th>\n",
       "      <th>B</th>\n",
       "      <th>LSTAT</th>\n",
       "      <th>target</th>\n",
       "    </tr>\n",
       "  </thead>\n",
       "  <tbody>\n",
       "    <tr>\n",
       "      <th>0</th>\n",
       "      <td>0.00632</td>\n",
       "      <td>18.0</td>\n",
       "      <td>2.31</td>\n",
       "      <td>0.0</td>\n",
       "      <td>0.538</td>\n",
       "      <td>6.575</td>\n",
       "      <td>65.2</td>\n",
       "      <td>4.0900</td>\n",
       "      <td>1.0</td>\n",
       "      <td>296.0</td>\n",
       "      <td>15.3</td>\n",
       "      <td>396.90</td>\n",
       "      <td>4.98</td>\n",
       "      <td>24.0</td>\n",
       "    </tr>\n",
       "    <tr>\n",
       "      <th>1</th>\n",
       "      <td>0.02731</td>\n",
       "      <td>0.0</td>\n",
       "      <td>7.07</td>\n",
       "      <td>0.0</td>\n",
       "      <td>0.469</td>\n",
       "      <td>6.421</td>\n",
       "      <td>78.9</td>\n",
       "      <td>4.9671</td>\n",
       "      <td>2.0</td>\n",
       "      <td>242.0</td>\n",
       "      <td>17.8</td>\n",
       "      <td>396.90</td>\n",
       "      <td>9.14</td>\n",
       "      <td>21.6</td>\n",
       "    </tr>\n",
       "    <tr>\n",
       "      <th>2</th>\n",
       "      <td>0.02729</td>\n",
       "      <td>0.0</td>\n",
       "      <td>7.07</td>\n",
       "      <td>0.0</td>\n",
       "      <td>0.469</td>\n",
       "      <td>7.185</td>\n",
       "      <td>61.1</td>\n",
       "      <td>4.9671</td>\n",
       "      <td>2.0</td>\n",
       "      <td>242.0</td>\n",
       "      <td>17.8</td>\n",
       "      <td>392.83</td>\n",
       "      <td>4.03</td>\n",
       "      <td>34.7</td>\n",
       "    </tr>\n",
       "    <tr>\n",
       "      <th>3</th>\n",
       "      <td>0.03237</td>\n",
       "      <td>0.0</td>\n",
       "      <td>2.18</td>\n",
       "      <td>0.0</td>\n",
       "      <td>0.458</td>\n",
       "      <td>6.998</td>\n",
       "      <td>45.8</td>\n",
       "      <td>6.0622</td>\n",
       "      <td>3.0</td>\n",
       "      <td>222.0</td>\n",
       "      <td>18.7</td>\n",
       "      <td>394.63</td>\n",
       "      <td>2.94</td>\n",
       "      <td>33.4</td>\n",
       "    </tr>\n",
       "    <tr>\n",
       "      <th>4</th>\n",
       "      <td>0.06905</td>\n",
       "      <td>0.0</td>\n",
       "      <td>2.18</td>\n",
       "      <td>0.0</td>\n",
       "      <td>0.458</td>\n",
       "      <td>7.147</td>\n",
       "      <td>54.2</td>\n",
       "      <td>6.0622</td>\n",
       "      <td>3.0</td>\n",
       "      <td>222.0</td>\n",
       "      <td>18.7</td>\n",
       "      <td>396.90</td>\n",
       "      <td>5.33</td>\n",
       "      <td>36.2</td>\n",
       "    </tr>\n",
       "  </tbody>\n",
       "</table>\n",
       "</div>"
      ],
      "text/plain": [
       "      CRIM    ZN  INDUS  CHAS    NOX     RM   AGE     DIS  RAD    TAX  \\\n",
       "0  0.00632  18.0   2.31   0.0  0.538  6.575  65.2  4.0900  1.0  296.0   \n",
       "1  0.02731   0.0   7.07   0.0  0.469  6.421  78.9  4.9671  2.0  242.0   \n",
       "2  0.02729   0.0   7.07   0.0  0.469  7.185  61.1  4.9671  2.0  242.0   \n",
       "3  0.03237   0.0   2.18   0.0  0.458  6.998  45.8  6.0622  3.0  222.0   \n",
       "4  0.06905   0.0   2.18   0.0  0.458  7.147  54.2  6.0622  3.0  222.0   \n",
       "\n",
       "   PTRATIO       B  LSTAT  target  \n",
       "0     15.3  396.90   4.98    24.0  \n",
       "1     17.8  396.90   9.14    21.6  \n",
       "2     17.8  392.83   4.03    34.7  \n",
       "3     18.7  394.63   2.94    33.4  \n",
       "4     18.7  396.90   5.33    36.2  "
      ]
     },
     "execution_count": 9,
     "metadata": {},
     "output_type": "execute_result"
    }
   ],
   "source": [
    "dfX = pd.DataFrame(boston.data, columns=boston.feature_names)\n",
    "dfy = pd.DataFrame(boston.target, columns=[\"target\"])\n",
    "\n",
    "df = pd.concat([dfX, dfy], axis=1)\n",
    "df.head()"
   ]
  },
  {
   "cell_type": "code",
   "execution_count": 10,
   "metadata": {
    "collapsed": false
   },
   "outputs": [],
   "source": [
    "from sklearn.model_selection import train_test_split\n",
    "\n",
    "X_train, X_test, y_train, y_test = train_test_split(boston.data, boston.target, random_state=12)"
   ]
  },
  {
   "cell_type": "code",
   "execution_count": 11,
   "metadata": {
    "collapsed": true
   },
   "outputs": [],
   "source": [
    "from sklearn.linear_model import Ridge\n",
    "\n",
    "ridge = Ridge().fit(X_train, y_train)"
   ]
  },
  {
   "cell_type": "code",
   "execution_count": 12,
   "metadata": {
    "collapsed": false
   },
   "outputs": [
    {
     "data": {
      "text/plain": [
       "0.7495158537471983"
      ]
     },
     "execution_count": 12,
     "metadata": {},
     "output_type": "execute_result"
    }
   ],
   "source": [
    "ridge.score(X_test, y_test)"
   ]
  },
  {
   "cell_type": "code",
   "execution_count": 13,
   "metadata": {
    "collapsed": false
   },
   "outputs": [
    {
     "data": {
      "text/plain": [
       "array([0.55734566, 0.63337499, 0.78943866, 0.75381104, 0.64667492])"
      ]
     },
     "execution_count": 13,
     "metadata": {},
     "output_type": "execute_result"
    }
   ],
   "source": [
    "from sklearn.model_selection import cross_val_score\n",
    "\n",
    "cross_val_score(ridge, X_train, y_train, cv=5)"
   ]
  },
  {
   "cell_type": "code",
   "execution_count": 14,
   "metadata": {
    "collapsed": false
   },
   "outputs": [],
   "source": [
    "# another tutorial with wine dataset\n",
    "\n",
    "wine = pd.read_csv(\"wine.csv\")"
   ]
  },
  {
   "cell_type": "code",
   "execution_count": 15,
   "metadata": {
    "collapsed": false
   },
   "outputs": [
    {
     "data": {
      "text/html": [
       "<div>\n",
       "<style scoped>\n",
       "    .dataframe tbody tr th:only-of-type {\n",
       "        vertical-align: middle;\n",
       "    }\n",
       "\n",
       "    .dataframe tbody tr th {\n",
       "        vertical-align: top;\n",
       "    }\n",
       "\n",
       "    .dataframe thead th {\n",
       "        text-align: right;\n",
       "    }\n",
       "</style>\n",
       "<table border=\"1\" class=\"dataframe\">\n",
       "  <thead>\n",
       "    <tr style=\"text-align: right;\">\n",
       "      <th></th>\n",
       "      <th>Alcohol</th>\n",
       "      <th>Malic acid</th>\n",
       "      <th>Ash</th>\n",
       "      <th>Alcalinity of ash</th>\n",
       "      <th>Magnesium</th>\n",
       "      <th>Total phenols</th>\n",
       "      <th>Flavanoids</th>\n",
       "      <th>Nonflavanoid phenols</th>\n",
       "      <th>Proanthocyanins</th>\n",
       "      <th>Color intensity</th>\n",
       "      <th>Hue</th>\n",
       "      <th>OD280/OD315 of diluted wines</th>\n",
       "      <th>Proline</th>\n",
       "      <th>Class</th>\n",
       "    </tr>\n",
       "  </thead>\n",
       "  <tbody>\n",
       "    <tr>\n",
       "      <th>0</th>\n",
       "      <td>13.34</td>\n",
       "      <td>0.94</td>\n",
       "      <td>2.36</td>\n",
       "      <td>17.0</td>\n",
       "      <td>110</td>\n",
       "      <td>2.53</td>\n",
       "      <td>1.30</td>\n",
       "      <td>0.55</td>\n",
       "      <td>0.42</td>\n",
       "      <td>3.17</td>\n",
       "      <td>1.02</td>\n",
       "      <td>1.93</td>\n",
       "      <td>750</td>\n",
       "      <td>Wine B</td>\n",
       "    </tr>\n",
       "    <tr>\n",
       "      <th>1</th>\n",
       "      <td>13.52</td>\n",
       "      <td>3.17</td>\n",
       "      <td>2.72</td>\n",
       "      <td>23.5</td>\n",
       "      <td>97</td>\n",
       "      <td>1.55</td>\n",
       "      <td>0.52</td>\n",
       "      <td>0.50</td>\n",
       "      <td>0.55</td>\n",
       "      <td>4.35</td>\n",
       "      <td>0.89</td>\n",
       "      <td>2.06</td>\n",
       "      <td>520</td>\n",
       "      <td>Wine C</td>\n",
       "    </tr>\n",
       "    <tr>\n",
       "      <th>2</th>\n",
       "      <td>13.24</td>\n",
       "      <td>3.98</td>\n",
       "      <td>2.29</td>\n",
       "      <td>17.5</td>\n",
       "      <td>103</td>\n",
       "      <td>2.64</td>\n",
       "      <td>2.63</td>\n",
       "      <td>0.32</td>\n",
       "      <td>1.66</td>\n",
       "      <td>4.36</td>\n",
       "      <td>0.82</td>\n",
       "      <td>3.00</td>\n",
       "      <td>680</td>\n",
       "      <td>Wine A</td>\n",
       "    </tr>\n",
       "    <tr>\n",
       "      <th>3</th>\n",
       "      <td>11.64</td>\n",
       "      <td>2.06</td>\n",
       "      <td>2.46</td>\n",
       "      <td>21.6</td>\n",
       "      <td>84</td>\n",
       "      <td>1.95</td>\n",
       "      <td>1.69</td>\n",
       "      <td>0.48</td>\n",
       "      <td>1.35</td>\n",
       "      <td>2.80</td>\n",
       "      <td>1.00</td>\n",
       "      <td>2.75</td>\n",
       "      <td>680</td>\n",
       "      <td>Wine B</td>\n",
       "    </tr>\n",
       "    <tr>\n",
       "      <th>4</th>\n",
       "      <td>13.36</td>\n",
       "      <td>2.56</td>\n",
       "      <td>2.35</td>\n",
       "      <td>20.0</td>\n",
       "      <td>89</td>\n",
       "      <td>1.40</td>\n",
       "      <td>0.50</td>\n",
       "      <td>0.37</td>\n",
       "      <td>0.64</td>\n",
       "      <td>5.60</td>\n",
       "      <td>0.70</td>\n",
       "      <td>2.47</td>\n",
       "      <td>780</td>\n",
       "      <td>Wine C</td>\n",
       "    </tr>\n",
       "  </tbody>\n",
       "</table>\n",
       "</div>"
      ],
      "text/plain": [
       "   Alcohol   Malic acid    Ash  Alcalinity of ash   Magnesium   \\\n",
       "0     13.34         0.94  2.36                17.0         110   \n",
       "1     13.52         3.17  2.72                23.5          97   \n",
       "2     13.24         3.98  2.29                17.5         103   \n",
       "3     11.64         2.06  2.46                21.6          84   \n",
       "4     13.36         2.56  2.35                20.0          89   \n",
       "\n",
       "   Total phenols   Flavanoids   Nonflavanoid phenols   Proanthocyanins   \\\n",
       "0            2.53         1.30                   0.55              0.42   \n",
       "1            1.55         0.52                   0.50              0.55   \n",
       "2            2.64         2.63                   0.32              1.66   \n",
       "3            1.95         1.69                   0.48              1.35   \n",
       "4            1.40         0.50                   0.37              0.64   \n",
       "\n",
       "   Color intensity   Hue   OD280/OD315 of diluted wines   Proline    Class  \n",
       "0              3.17  1.02                           1.93       750  Wine B  \n",
       "1              4.35  0.89                           2.06       520  Wine C  \n",
       "2              4.36  0.82                           3.00       680  Wine A  \n",
       "3              2.80  1.00                           2.75       680  Wine B  \n",
       "4              5.60  0.70                           2.47       780  Wine C  "
      ]
     },
     "execution_count": 15,
     "metadata": {},
     "output_type": "execute_result"
    }
   ],
   "source": [
    "wine.head()"
   ]
  },
  {
   "cell_type": "code",
   "execution_count": 16,
   "metadata": {
    "collapsed": false
   },
   "outputs": [
    {
     "name": "stdout",
     "output_type": "stream",
     "text": [
      "<class 'pandas.core.frame.DataFrame'>\n",
      "RangeIndex: 176 entries, 0 to 175\n",
      "Data columns (total 14 columns):\n",
      "Alcohol                          176 non-null float64\n",
      "Malic acid                       176 non-null float64\n",
      "Ash                              176 non-null float64\n",
      "Alcalinity of ash                176 non-null float64\n",
      "Magnesium                        176 non-null int64\n",
      "Total phenols                    176 non-null float64\n",
      "Flavanoids                       176 non-null float64\n",
      "Nonflavanoid phenols             176 non-null float64\n",
      "Proanthocyanins                  176 non-null float64\n",
      "Color intensity                  176 non-null float64\n",
      "Hue                              176 non-null float64\n",
      "OD280/OD315 of diluted wines     176 non-null float64\n",
      "Proline                          176 non-null int64\n",
      "Class                            176 non-null object\n",
      "dtypes: float64(11), int64(2), object(1)\n",
      "memory usage: 19.3+ KB\n"
     ]
    }
   ],
   "source": [
    "wine.info()"
   ]
  },
  {
   "cell_type": "code",
   "execution_count": 17,
   "metadata": {
    "collapsed": false
   },
   "outputs": [
    {
     "data": {
      "text/plain": [
       "Wine B    70\n",
       "Wine A    58\n",
       "Wine C    48\n",
       "Name: Class, dtype: int64"
      ]
     },
     "execution_count": 17,
     "metadata": {},
     "output_type": "execute_result"
    }
   ],
   "source": [
    "wine.Class.value_counts()"
   ]
  },
  {
   "cell_type": "code",
   "execution_count": 18,
   "metadata": {
    "collapsed": true
   },
   "outputs": [],
   "source": [
    "X = wine.drop(\"Class\", axis=1)\n",
    "y = wine.Class"
   ]
  },
  {
   "cell_type": "code",
   "execution_count": 19,
   "metadata": {
    "collapsed": false
   },
   "outputs": [],
   "source": [
    "X_train, X_test, y_train, y_test = train_test_split(X, y, random_state=0)"
   ]
  },
  {
   "cell_type": "code",
   "execution_count": 20,
   "metadata": {
    "collapsed": true
   },
   "outputs": [],
   "source": [
    "from sklearn.preprocessing import MinMaxScaler\n",
    "\n",
    "scaler = MinMaxScaler(feature_range=(0,1))"
   ]
  },
  {
   "cell_type": "code",
   "execution_count": 21,
   "metadata": {
    "collapsed": false
   },
   "outputs": [
    {
     "data": {
      "text/plain": [
       "MinMaxScaler(copy=True, feature_range=(0, 1))"
      ]
     },
     "execution_count": 21,
     "metadata": {},
     "output_type": "execute_result"
    }
   ],
   "source": [
    "scaler.fit(X_train)"
   ]
  },
  {
   "cell_type": "code",
   "execution_count": 22,
   "metadata": {
    "collapsed": true
   },
   "outputs": [],
   "source": [
    "X_train_scaled = scaler.transform(X_train)\n",
    "X_test_scaled = scaler.transform(X_test)"
   ]
  },
  {
   "cell_type": "code",
   "execution_count": 23,
   "metadata": {
    "collapsed": true
   },
   "outputs": [],
   "source": [
    "from sklearn.linear_model import LogisticRegression\n",
    "\n",
    "log_rg = LogisticRegression().fit(X_train_scaled, y_train)"
   ]
  },
  {
   "cell_type": "code",
   "execution_count": 24,
   "metadata": {
    "collapsed": false
   },
   "outputs": [
    {
     "data": {
      "text/plain": [
       "0.9772727272727273"
      ]
     },
     "execution_count": 24,
     "metadata": {},
     "output_type": "execute_result"
    }
   ],
   "source": [
    "# a simple way to test\n",
    "log_rg.score(X_test_scaled, y_test)"
   ]
  },
  {
   "cell_type": "code",
   "execution_count": 25,
   "metadata": {
    "collapsed": false
   },
   "outputs": [
    {
     "data": {
      "text/plain": [
       "array([0.85714286, 0.96296296, 0.92307692, 0.96153846, 0.96      ])"
      ]
     },
     "execution_count": 25,
     "metadata": {},
     "output_type": "execute_result"
    }
   ],
   "source": [
    "cross_val_score(log_rg, X_train, y_train, cv=5)"
   ]
  },
  {
   "cell_type": "code",
   "execution_count": 26,
   "metadata": {
    "collapsed": true
   },
   "outputs": [],
   "source": [
    "# detailed options\n",
    "from sklearn.model_selection import KFold\n",
    "\n",
    "kfold = KFold(n_splits=5, shuffle=True, random_state=0)"
   ]
  },
  {
   "cell_type": "code",
   "execution_count": 27,
   "metadata": {
    "collapsed": false
   },
   "outputs": [
    {
     "data": {
      "text/plain": [
       "array([0.88888889, 1.        , 0.84615385, 0.96153846, 1.        ])"
      ]
     },
     "execution_count": 27,
     "metadata": {},
     "output_type": "execute_result"
    }
   ],
   "source": [
    "cross_val_score(log_rg, X_train, y_train, cv=kfold)"
   ]
  },
  {
   "cell_type": "markdown",
   "metadata": {},
   "source": [
    "### LeaveOneOut"
   ]
  },
  {
   "cell_type": "code",
   "execution_count": 28,
   "metadata": {
    "collapsed": true
   },
   "outputs": [],
   "source": [
    "from sklearn.model_selection import LeaveOneOut\n",
    "\n",
    "loo = LeaveOneOut()"
   ]
  },
  {
   "cell_type": "code",
   "execution_count": 29,
   "metadata": {
    "collapsed": true
   },
   "outputs": [],
   "source": [
    "scores = cross_val_score(log_rg, X_train_scaled, y_train, cv=loo)"
   ]
  },
  {
   "cell_type": "code",
   "execution_count": 30,
   "metadata": {
    "collapsed": false
   },
   "outputs": [
    {
     "data": {
      "text/plain": [
       "132"
      ]
     },
     "execution_count": 30,
     "metadata": {},
     "output_type": "execute_result"
    }
   ],
   "source": [
    "len(scores)"
   ]
  },
  {
   "cell_type": "code",
   "execution_count": 31,
   "metadata": {
    "collapsed": false
   },
   "outputs": [
    {
     "data": {
      "text/plain": [
       "132"
      ]
     },
     "execution_count": 31,
     "metadata": {},
     "output_type": "execute_result"
    }
   ],
   "source": [
    "len(X_train_scaled)"
   ]
  },
  {
   "cell_type": "code",
   "execution_count": 32,
   "metadata": {
    "collapsed": false
   },
   "outputs": [
    {
     "data": {
      "text/plain": [
       "0.9696969696969697"
      ]
     },
     "execution_count": 32,
     "metadata": {},
     "output_type": "execute_result"
    }
   ],
   "source": [
    "scores.mean()"
   ]
  },
  {
   "cell_type": "markdown",
   "metadata": {},
   "source": [
    "### ShuffleSplit"
   ]
  },
  {
   "cell_type": "code",
   "execution_count": 33,
   "metadata": {
    "collapsed": true
   },
   "outputs": [],
   "source": [
    "from sklearn.model_selection import ShuffleSplit\n",
    "\n",
    "suffle_split = ShuffleSplit(test_size=10, train_size=50, n_splits=4)"
   ]
  },
  {
   "cell_type": "code",
   "execution_count": 34,
   "metadata": {
    "collapsed": false
   },
   "outputs": [],
   "source": [
    "scores = cross_val_score(log_rg, X_train_scaled, y_train, cv=suffle_split)"
   ]
  },
  {
   "cell_type": "code",
   "execution_count": 35,
   "metadata": {
    "collapsed": false
   },
   "outputs": [
    {
     "data": {
      "text/plain": [
       "array([1. , 1. , 1. , 0.9])"
      ]
     },
     "execution_count": 35,
     "metadata": {},
     "output_type": "execute_result"
    }
   ],
   "source": [
    "scores"
   ]
  },
  {
   "cell_type": "markdown",
   "metadata": {},
   "source": [
    "### Grid Search (a simple way)"
   ]
  },
  {
   "cell_type": "code",
   "execution_count": 36,
   "metadata": {
    "collapsed": false
   },
   "outputs": [
    {
     "data": {
      "text/html": [
       "<div>\n",
       "<style scoped>\n",
       "    .dataframe tbody tr th:only-of-type {\n",
       "        vertical-align: middle;\n",
       "    }\n",
       "\n",
       "    .dataframe tbody tr th {\n",
       "        vertical-align: top;\n",
       "    }\n",
       "\n",
       "    .dataframe thead th {\n",
       "        text-align: right;\n",
       "    }\n",
       "</style>\n",
       "<table border=\"1\" class=\"dataframe\">\n",
       "  <thead>\n",
       "    <tr style=\"text-align: right;\">\n",
       "      <th></th>\n",
       "      <th>Alcohol</th>\n",
       "      <th>Malic acid</th>\n",
       "      <th>Ash</th>\n",
       "      <th>Alcalinity of ash</th>\n",
       "      <th>Magnesium</th>\n",
       "      <th>Total phenols</th>\n",
       "      <th>Flavanoids</th>\n",
       "      <th>Nonflavanoid phenols</th>\n",
       "      <th>Proanthocyanins</th>\n",
       "      <th>Color intensity</th>\n",
       "      <th>Hue</th>\n",
       "      <th>OD280/OD315 of diluted wines</th>\n",
       "      <th>Proline</th>\n",
       "      <th>Class</th>\n",
       "    </tr>\n",
       "  </thead>\n",
       "  <tbody>\n",
       "    <tr>\n",
       "      <th>0</th>\n",
       "      <td>13.34</td>\n",
       "      <td>0.94</td>\n",
       "      <td>2.36</td>\n",
       "      <td>17.0</td>\n",
       "      <td>110</td>\n",
       "      <td>2.53</td>\n",
       "      <td>1.30</td>\n",
       "      <td>0.55</td>\n",
       "      <td>0.42</td>\n",
       "      <td>3.17</td>\n",
       "      <td>1.02</td>\n",
       "      <td>1.93</td>\n",
       "      <td>750</td>\n",
       "      <td>Wine B</td>\n",
       "    </tr>\n",
       "    <tr>\n",
       "      <th>1</th>\n",
       "      <td>13.52</td>\n",
       "      <td>3.17</td>\n",
       "      <td>2.72</td>\n",
       "      <td>23.5</td>\n",
       "      <td>97</td>\n",
       "      <td>1.55</td>\n",
       "      <td>0.52</td>\n",
       "      <td>0.50</td>\n",
       "      <td>0.55</td>\n",
       "      <td>4.35</td>\n",
       "      <td>0.89</td>\n",
       "      <td>2.06</td>\n",
       "      <td>520</td>\n",
       "      <td>Wine C</td>\n",
       "    </tr>\n",
       "    <tr>\n",
       "      <th>2</th>\n",
       "      <td>13.24</td>\n",
       "      <td>3.98</td>\n",
       "      <td>2.29</td>\n",
       "      <td>17.5</td>\n",
       "      <td>103</td>\n",
       "      <td>2.64</td>\n",
       "      <td>2.63</td>\n",
       "      <td>0.32</td>\n",
       "      <td>1.66</td>\n",
       "      <td>4.36</td>\n",
       "      <td>0.82</td>\n",
       "      <td>3.00</td>\n",
       "      <td>680</td>\n",
       "      <td>Wine A</td>\n",
       "    </tr>\n",
       "    <tr>\n",
       "      <th>3</th>\n",
       "      <td>11.64</td>\n",
       "      <td>2.06</td>\n",
       "      <td>2.46</td>\n",
       "      <td>21.6</td>\n",
       "      <td>84</td>\n",
       "      <td>1.95</td>\n",
       "      <td>1.69</td>\n",
       "      <td>0.48</td>\n",
       "      <td>1.35</td>\n",
       "      <td>2.80</td>\n",
       "      <td>1.00</td>\n",
       "      <td>2.75</td>\n",
       "      <td>680</td>\n",
       "      <td>Wine B</td>\n",
       "    </tr>\n",
       "    <tr>\n",
       "      <th>4</th>\n",
       "      <td>13.36</td>\n",
       "      <td>2.56</td>\n",
       "      <td>2.35</td>\n",
       "      <td>20.0</td>\n",
       "      <td>89</td>\n",
       "      <td>1.40</td>\n",
       "      <td>0.50</td>\n",
       "      <td>0.37</td>\n",
       "      <td>0.64</td>\n",
       "      <td>5.60</td>\n",
       "      <td>0.70</td>\n",
       "      <td>2.47</td>\n",
       "      <td>780</td>\n",
       "      <td>Wine C</td>\n",
       "    </tr>\n",
       "  </tbody>\n",
       "</table>\n",
       "</div>"
      ],
      "text/plain": [
       "   Alcohol   Malic acid    Ash  Alcalinity of ash   Magnesium   \\\n",
       "0     13.34         0.94  2.36                17.0         110   \n",
       "1     13.52         3.17  2.72                23.5          97   \n",
       "2     13.24         3.98  2.29                17.5         103   \n",
       "3     11.64         2.06  2.46                21.6          84   \n",
       "4     13.36         2.56  2.35                20.0          89   \n",
       "\n",
       "   Total phenols   Flavanoids   Nonflavanoid phenols   Proanthocyanins   \\\n",
       "0            2.53         1.30                   0.55              0.42   \n",
       "1            1.55         0.52                   0.50              0.55   \n",
       "2            2.64         2.63                   0.32              1.66   \n",
       "3            1.95         1.69                   0.48              1.35   \n",
       "4            1.40         0.50                   0.37              0.64   \n",
       "\n",
       "   Color intensity   Hue   OD280/OD315 of diluted wines   Proline    Class  \n",
       "0              3.17  1.02                           1.93       750  Wine B  \n",
       "1              4.35  0.89                           2.06       520  Wine C  \n",
       "2              4.36  0.82                           3.00       680  Wine A  \n",
       "3              2.80  1.00                           2.75       680  Wine B  \n",
       "4              5.60  0.70                           2.47       780  Wine C  "
      ]
     },
     "execution_count": 36,
     "metadata": {},
     "output_type": "execute_result"
    }
   ],
   "source": [
    "wine.head()"
   ]
  },
  {
   "cell_type": "code",
   "execution_count": 37,
   "metadata": {
    "collapsed": false
   },
   "outputs": [
    {
     "name": "stdout",
     "output_type": "stream",
     "text": [
      "(132, 13)\n",
      "(132,)\n",
      "(44, 13)\n",
      "(44,)\n"
     ]
    }
   ],
   "source": [
    "print(X_train.shape)\n",
    "print(y_train.shape)\n",
    "print(X_test.shape)\n",
    "print(y_test.shape)"
   ]
  },
  {
   "cell_type": "code",
   "execution_count": 38,
   "metadata": {
    "collapsed": false
   },
   "outputs": [
    {
     "data": {
      "text/plain": [
       "Wine B    49\n",
       "Wine A    46\n",
       "Wine C    37\n",
       "Name: Class, dtype: int64"
      ]
     },
     "execution_count": 38,
     "metadata": {},
     "output_type": "execute_result"
    }
   ],
   "source": [
    "y_train.value_counts()"
   ]
  },
  {
   "cell_type": "code",
   "execution_count": 39,
   "metadata": {
    "collapsed": false
   },
   "outputs": [
    {
     "data": {
      "text/plain": [
       "Wine B    21\n",
       "Wine A    12\n",
       "Wine C    11\n",
       "Name: Class, dtype: int64"
      ]
     },
     "execution_count": 39,
     "metadata": {},
     "output_type": "execute_result"
    }
   ],
   "source": [
    "y_test.value_counts()"
   ]
  },
  {
   "cell_type": "code",
   "execution_count": 40,
   "metadata": {
    "collapsed": false
   },
   "outputs": [],
   "source": [
    "from sklearn.svm import SVC\n",
    "\n",
    "svm = SVC()"
   ]
  },
  {
   "cell_type": "code",
   "execution_count": 41,
   "metadata": {
    "collapsed": false
   },
   "outputs": [
    {
     "data": {
      "text/plain": [
       "SVC(C=1.0, cache_size=200, class_weight=None, coef0=0.0,\n",
       "  decision_function_shape=None, degree=3, gamma='auto', kernel='rbf',\n",
       "  max_iter=-1, probability=False, random_state=None, shrinking=True,\n",
       "  tol=0.001, verbose=False)"
      ]
     },
     "execution_count": 41,
     "metadata": {},
     "output_type": "execute_result"
    }
   ],
   "source": [
    "svm.fit(X_train, y_train)"
   ]
  },
  {
   "cell_type": "code",
   "execution_count": 42,
   "metadata": {
    "collapsed": false
   },
   "outputs": [
    {
     "data": {
      "text/plain": [
       "0.5454545454545454"
      ]
     },
     "execution_count": 42,
     "metadata": {},
     "output_type": "execute_result"
    }
   ],
   "source": [
    "# test result with default options\n",
    "svm.score(X_test, y_test)"
   ]
  },
  {
   "cell_type": "code",
   "execution_count": 43,
   "metadata": {
    "collapsed": false
   },
   "outputs": [
    {
     "data": {
      "text/plain": [
       "1.0"
      ]
     },
     "execution_count": 43,
     "metadata": {},
     "output_type": "execute_result"
    }
   ],
   "source": [
    "# possibility of generalization with simple split\n",
    "svm.score(X_train, y_train)"
   ]
  },
  {
   "cell_type": "code",
   "execution_count": 44,
   "metadata": {
    "collapsed": false
   },
   "outputs": [
    {
     "data": {
      "text/plain": [
       "0.9393162393162393"
      ]
     },
     "execution_count": 44,
     "metadata": {},
     "output_type": "execute_result"
    }
   ],
   "source": [
    "# possibility of generalization with Kfold CV\n",
    "kfold = KFold(n_splits=5, shuffle=True, random_state=0)\n",
    "\n",
    "cross_val_score(log_rg, X_train, y_train, cv=kfold).mean()"
   ]
  },
  {
   "cell_type": "code",
   "execution_count": 45,
   "metadata": {
    "collapsed": false
   },
   "outputs": [],
   "source": [
    "best_score = 0\n",
    "\n",
    "for gamma in [0.001, 0.01, 0.1, 1, 10, 100]:\n",
    "    for C in [0.001, 0.01, 0.1, 1, 10, 100]:\n",
    "        svm = SVC(gamma=gamma, C=C)\n",
    "        svm.fit(X_train, y_train)\n",
    "        score = svm.score(X_test, y_test)\n",
    "        if score > best_score:\n",
    "            best_score = score\n",
    "            best_parameters = {'C': C, 'gamma': gamma}            "
   ]
  },
  {
   "cell_type": "code",
   "execution_count": 46,
   "metadata": {
    "collapsed": false
   },
   "outputs": [
    {
     "name": "stdout",
     "output_type": "stream",
     "text": [
      "0.8181818181818182\n",
      "{'C': 100, 'gamma': 0.001}\n"
     ]
    }
   ],
   "source": [
    "print(best_score)\n",
    "print(best_parameters)   "
   ]
  },
  {
   "cell_type": "code",
   "execution_count": 47,
   "metadata": {
    "collapsed": false
   },
   "outputs": [
    {
     "data": {
      "text/plain": [
       "SVC(C=100, cache_size=200, class_weight=None, coef0=0.0,\n",
       "  decision_function_shape=None, degree=3, gamma=0.001, kernel='rbf',\n",
       "  max_iter=-1, probability=False, random_state=None, shrinking=True,\n",
       "  tol=0.001, verbose=False)"
      ]
     },
     "execution_count": 47,
     "metadata": {},
     "output_type": "execute_result"
    }
   ],
   "source": [
    "svm_best = SVC(**best_parameters)\n",
    "\n",
    "svm_best"
   ]
  },
  {
   "cell_type": "code",
   "execution_count": 48,
   "metadata": {
    "collapsed": false
   },
   "outputs": [
    {
     "data": {
      "text/plain": [
       "SVC(C=100, cache_size=200, class_weight=None, coef0=0.0,\n",
       "  decision_function_shape=None, degree=3, gamma=0.001, kernel='rbf',\n",
       "  max_iter=-1, probability=False, random_state=None, shrinking=True,\n",
       "  tol=0.001, verbose=False)"
      ]
     },
     "execution_count": 48,
     "metadata": {},
     "output_type": "execute_result"
    }
   ],
   "source": [
    "svm_best.fit(X_train, y_train)"
   ]
  },
  {
   "cell_type": "code",
   "execution_count": 49,
   "metadata": {
    "collapsed": false
   },
   "outputs": [
    {
     "data": {
      "text/plain": [
       "0.8181818181818182"
      ]
     },
     "execution_count": 49,
     "metadata": {},
     "output_type": "execute_result"
    }
   ],
   "source": [
    "svm_best.score(X_test, y_test) # 편항된 점수"
   ]
  },
  {
   "cell_type": "markdown",
   "metadata": {},
   "source": [
    "### Grid Search with Validation set"
   ]
  },
  {
   "cell_type": "code",
   "execution_count": 50,
   "metadata": {
    "collapsed": false
   },
   "outputs": [],
   "source": [
    "from sklearn.model_selection import train_test_split\n",
    "\n",
    "# train+val, test from all \n",
    "X_trainval, X_test, y_trainval, y_test = train_test_split(X, y, random_state=0)\n",
    "\n",
    "# train, val from train+val\n",
    "X_train, X_val, y_train, y_val = train_test_split(X_trainval, y_trainval, random_state=1)"
   ]
  },
  {
   "cell_type": "code",
   "execution_count": 51,
   "metadata": {
    "collapsed": false
   },
   "outputs": [
    {
     "name": "stdout",
     "output_type": "stream",
     "text": [
      "(176, 13)\n",
      "(99, 13)\n",
      "(33, 13)\n",
      "(44, 13)\n"
     ]
    }
   ],
   "source": [
    "print(X.shape)\n",
    "print(X_train.shape)\n",
    "print(X_val.shape)\n",
    "print(X_test.shape)"
   ]
  },
  {
   "cell_type": "code",
   "execution_count": 52,
   "metadata": {
    "collapsed": false
   },
   "outputs": [],
   "source": [
    "# grid search with a sample split\n",
    "\n",
    "best_score = 0\n",
    "for gamma in [0.001, 0.01, 0.1, 1, 10, 100]:\n",
    "    for C in [0.001, 0.01, 0.1, 1, 10, 100]:\n",
    "        svm = SVC(gamma = gamma, C=C)\n",
    "        svm.fit(X_train, y_train)\n",
    "        score = svm.score(X_val, y_val)\n",
    "        if score > best_score:\n",
    "            best_score = score\n",
    "            best_parameters = {'C': C, 'gamma': gamma}"
   ]
  },
  {
   "cell_type": "code",
   "execution_count": 53,
   "metadata": {
    "collapsed": false
   },
   "outputs": [
    {
     "name": "stdout",
     "output_type": "stream",
     "text": [
      "0.7878787878787878\n",
      "{'C': 100, 'gamma': 0.001}\n"
     ]
    }
   ],
   "source": [
    "print(best_score)\n",
    "print(best_parameters)"
   ]
  },
  {
   "cell_type": "code",
   "execution_count": 54,
   "metadata": {
    "collapsed": true
   },
   "outputs": [],
   "source": [
    "svm = SVC(**best_parameters)"
   ]
  },
  {
   "cell_type": "code",
   "execution_count": 55,
   "metadata": {
    "collapsed": false
   },
   "outputs": [
    {
     "data": {
      "text/plain": [
       "SVC(C=100, cache_size=200, class_weight=None, coef0=0.0,\n",
       "  decision_function_shape=None, degree=3, gamma=0.001, kernel='rbf',\n",
       "  max_iter=-1, probability=False, random_state=None, shrinking=True,\n",
       "  tol=0.001, verbose=False)"
      ]
     },
     "execution_count": 55,
     "metadata": {},
     "output_type": "execute_result"
    }
   ],
   "source": [
    "svm.fit(X_trainval, y_trainval)"
   ]
  },
  {
   "cell_type": "code",
   "execution_count": 56,
   "metadata": {
    "collapsed": false
   },
   "outputs": [
    {
     "data": {
      "text/plain": [
       "0.8181818181818182"
      ]
     },
     "execution_count": 56,
     "metadata": {},
     "output_type": "execute_result"
    }
   ],
   "source": [
    "svm.score(X_test, y_test)"
   ]
  },
  {
   "cell_type": "code",
   "execution_count": 57,
   "metadata": {
    "collapsed": false
   },
   "outputs": [],
   "source": [
    "# grid search with Kfold CV\n",
    "from sklearn.model_selection import cross_val_score\n",
    "\n",
    "best_score = 0 \n",
    "for gamma in [0.001, 0.01, 0.1, 1, 10, 100]:\n",
    "    for C in [0.001, 0.01, 0.1, 1, 10, 100]:\n",
    "        svm = SVC(gamma=gamma, C=C)\n",
    "        scores = cross_val_score(svm, X_trainval, y_trainval, cv=5)\n",
    "        score = np.mean(scores)\n",
    "        if score > best_score:\n",
    "            best_score = score\n",
    "            best_parameters = {'C': C, 'gamma': gamma}"
   ]
  },
  {
   "cell_type": "code",
   "execution_count": 58,
   "metadata": {
    "collapsed": false
   },
   "outputs": [
    {
     "name": "stdout",
     "output_type": "stream",
     "text": [
      "0.7806552706552706\n",
      "{'C': 100, 'gamma': 0.001}\n"
     ]
    }
   ],
   "source": [
    "print(best_score)\n",
    "print(best_parameters)"
   ]
  },
  {
   "cell_type": "code",
   "execution_count": 59,
   "metadata": {
    "collapsed": false
   },
   "outputs": [],
   "source": [
    "svm = SVC(**best_parameters)"
   ]
  },
  {
   "cell_type": "code",
   "execution_count": 60,
   "metadata": {
    "collapsed": false
   },
   "outputs": [
    {
     "data": {
      "text/plain": [
       "SVC(C=100, cache_size=200, class_weight=None, coef0=0.0,\n",
       "  decision_function_shape=None, degree=3, gamma=0.001, kernel='rbf',\n",
       "  max_iter=-1, probability=False, random_state=None, shrinking=True,\n",
       "  tol=0.001, verbose=False)"
      ]
     },
     "execution_count": 60,
     "metadata": {},
     "output_type": "execute_result"
    }
   ],
   "source": [
    "svm.fit(X_trainval, y_trainval)"
   ]
  },
  {
   "cell_type": "code",
   "execution_count": 61,
   "metadata": {
    "collapsed": false
   },
   "outputs": [
    {
     "data": {
      "text/plain": [
       "0.8181818181818182"
      ]
     },
     "execution_count": 61,
     "metadata": {},
     "output_type": "execute_result"
    }
   ],
   "source": [
    "svm.score(X_test, y_test)"
   ]
  },
  {
   "cell_type": "code",
   "execution_count": 62,
   "metadata": {
    "collapsed": true
   },
   "outputs": [],
   "source": [
    "# grid search class\n",
    "from sklearn.model_selection import GridSearchCV\n",
    "\n",
    "param_grid = {'C': [0.001, 0.01, 0.1, 1, 10, 100],\n",
    "              'gamma': [0.001, 0.01, 0.1, 1, 10, 100]}"
   ]
  },
  {
   "cell_type": "code",
   "execution_count": 63,
   "metadata": {
    "collapsed": true
   },
   "outputs": [],
   "source": [
    "grid_search = GridSearchCV(SVC(), param_grid, cv=5)"
   ]
  },
  {
   "cell_type": "code",
   "execution_count": 64,
   "metadata": {
    "collapsed": true
   },
   "outputs": [],
   "source": [
    "X_train, X_test, y_train, y_test = train_test_split(X, y, random_state=0)"
   ]
  },
  {
   "cell_type": "code",
   "execution_count": 65,
   "metadata": {
    "collapsed": false
   },
   "outputs": [
    {
     "data": {
      "text/plain": [
       "GridSearchCV(cv=5, error_score='raise',\n",
       "       estimator=SVC(C=1.0, cache_size=200, class_weight=None, coef0=0.0,\n",
       "  decision_function_shape=None, degree=3, gamma='auto', kernel='rbf',\n",
       "  max_iter=-1, probability=False, random_state=None, shrinking=True,\n",
       "  tol=0.001, verbose=False),\n",
       "       fit_params={}, iid=True, n_jobs=1,\n",
       "       param_grid={'C': [0.001, 0.01, 0.1, 1, 10, 100], 'gamma': [0.001, 0.01, 0.1, 1, 10, 100]},\n",
       "       pre_dispatch='2*n_jobs', refit=True, return_train_score=True,\n",
       "       scoring=None, verbose=0)"
      ]
     },
     "execution_count": 65,
     "metadata": {},
     "output_type": "execute_result"
    }
   ],
   "source": [
    "grid_search.fit(X_train, y_train)"
   ]
  },
  {
   "cell_type": "code",
   "execution_count": 66,
   "metadata": {
    "collapsed": false
   },
   "outputs": [
    {
     "name": "stdout",
     "output_type": "stream",
     "text": [
      "{'C': 100, 'gamma': 0.001}\n",
      "0.7803030303030303\n"
     ]
    }
   ],
   "source": [
    "print(grid_search.best_params_)\n",
    "print(grid_search.best_score_)"
   ]
  },
  {
   "cell_type": "code",
   "execution_count": 67,
   "metadata": {
    "collapsed": false
   },
   "outputs": [
    {
     "data": {
      "text/plain": [
       "0.8181818181818182"
      ]
     },
     "execution_count": 67,
     "metadata": {},
     "output_type": "execute_result"
    }
   ],
   "source": [
    "grid_search.score(X_test, y_test)"
   ]
  },
  {
   "cell_type": "code",
   "execution_count": 68,
   "metadata": {
    "collapsed": false
   },
   "outputs": [
    {
     "name": "stdout",
     "output_type": "stream",
     "text": [
      "SVC(C=100, cache_size=200, class_weight=None, coef0=0.0,\n",
      "  decision_function_shape=None, degree=3, gamma=0.001, kernel='rbf',\n",
      "  max_iter=-1, probability=False, random_state=None, shrinking=True,\n",
      "  tol=0.001, verbose=False)\n"
     ]
    }
   ],
   "source": [
    "print(grid_search.best_estimator_)"
   ]
  },
  {
   "cell_type": "code",
   "execution_count": 69,
   "metadata": {
    "collapsed": false
   },
   "outputs": [
    {
     "data": {
      "text/plain": [
       "[{'C': [0.001, 0.01, 0.1, 1, 10, 100],\n",
       "  'gamma': [0.001, 0.01, 0.1, 1, 10, 100],\n",
       "  'kernel': ['rbf']},\n",
       " {'C': [0.001, 0.01, 0.1, 1, 10, 100], 'kernel': ['linear']}]"
      ]
     },
     "execution_count": 69,
     "metadata": {},
     "output_type": "execute_result"
    }
   ],
   "source": [
    "# if wants to select certain options\n",
    "\n",
    "param_grid = [{'kernel': ['rbf'],\n",
    "              'C': [0.001, 0.01, 0.1, 1, 10, 100],\n",
    "              'gamma': [0.001, 0.01, 0.1, 1, 10, 100]},\n",
    "              \n",
    "             {'kernel': ['linear'],\n",
    "              'C': [0.001, 0.01, 0.1, 1, 10, 100]}]\n",
    "\n",
    "param_grid"
   ]
  },
  {
   "cell_type": "code",
   "execution_count": 70,
   "metadata": {
    "collapsed": true
   },
   "outputs": [],
   "source": [
    "grid_search = GridSearchCV(SVC(), param_grid, cv=5)"
   ]
  },
  {
   "cell_type": "code",
   "execution_count": 71,
   "metadata": {
    "collapsed": false
   },
   "outputs": [
    {
     "data": {
      "text/plain": [
       "GridSearchCV(cv=5, error_score='raise',\n",
       "       estimator=SVC(C=1.0, cache_size=200, class_weight=None, coef0=0.0,\n",
       "  decision_function_shape=None, degree=3, gamma='auto', kernel='rbf',\n",
       "  max_iter=-1, probability=False, random_state=None, shrinking=True,\n",
       "  tol=0.001, verbose=False),\n",
       "       fit_params={}, iid=True, n_jobs=1,\n",
       "       param_grid=[{'kernel': ['rbf'], 'C': [0.001, 0.01, 0.1, 1, 10, 100], 'gamma': [0.001, 0.01, 0.1, 1, 10, 100]}, {'kernel': ['linear'], 'C': [0.001, 0.01, 0.1, 1, 10, 100]}],\n",
       "       pre_dispatch='2*n_jobs', refit=True, return_train_score=True,\n",
       "       scoring=None, verbose=0)"
      ]
     },
     "execution_count": 71,
     "metadata": {},
     "output_type": "execute_result"
    }
   ],
   "source": [
    "grid_search.fit(X_train, y_train)"
   ]
  },
  {
   "cell_type": "code",
   "execution_count": 72,
   "metadata": {
    "collapsed": false
   },
   "outputs": [
    {
     "name": "stdout",
     "output_type": "stream",
     "text": [
      "{'kernel': 'linear', 'C': 0.1}\n",
      "0.946969696969697\n"
     ]
    }
   ],
   "source": [
    "print(grid_search.best_params_)\n",
    "print(grid_search.best_score_)"
   ]
  },
  {
   "cell_type": "code",
   "execution_count": 73,
   "metadata": {
    "collapsed": false
   },
   "outputs": [
    {
     "data": {
      "text/html": [
       "<div>\n",
       "<style scoped>\n",
       "    .dataframe tbody tr th:only-of-type {\n",
       "        vertical-align: middle;\n",
       "    }\n",
       "\n",
       "    .dataframe tbody tr th {\n",
       "        vertical-align: top;\n",
       "    }\n",
       "\n",
       "    .dataframe thead th {\n",
       "        text-align: right;\n",
       "    }\n",
       "</style>\n",
       "<table border=\"1\" class=\"dataframe\">\n",
       "  <thead>\n",
       "    <tr style=\"text-align: right;\">\n",
       "      <th></th>\n",
       "      <th>0</th>\n",
       "      <th>1</th>\n",
       "      <th>2</th>\n",
       "      <th>3</th>\n",
       "      <th>4</th>\n",
       "      <th>5</th>\n",
       "      <th>6</th>\n",
       "      <th>7</th>\n",
       "      <th>8</th>\n",
       "      <th>9</th>\n",
       "      <th>...</th>\n",
       "      <th>32</th>\n",
       "      <th>33</th>\n",
       "      <th>34</th>\n",
       "      <th>35</th>\n",
       "      <th>36</th>\n",
       "      <th>37</th>\n",
       "      <th>38</th>\n",
       "      <th>39</th>\n",
       "      <th>40</th>\n",
       "      <th>41</th>\n",
       "    </tr>\n",
       "  </thead>\n",
       "  <tbody>\n",
       "    <tr>\n",
       "      <th>mean_fit_time</th>\n",
       "      <td>0.00310116</td>\n",
       "      <td>0.00283356</td>\n",
       "      <td>0.00244918</td>\n",
       "      <td>0.00168414</td>\n",
       "      <td>0.00137773</td>\n",
       "      <td>0.00140095</td>\n",
       "      <td>0.00173402</td>\n",
       "      <td>0.00174141</td>\n",
       "      <td>0.00150719</td>\n",
       "      <td>0.00134864</td>\n",
       "      <td>...</td>\n",
       "      <td>0.00164862</td>\n",
       "      <td>0.00158486</td>\n",
       "      <td>0.00153594</td>\n",
       "      <td>0.001583</td>\n",
       "      <td>0.00132399</td>\n",
       "      <td>0.00571179</td>\n",
       "      <td>0.0227327</td>\n",
       "      <td>0.0749841</td>\n",
       "      <td>0.105135</td>\n",
       "      <td>0.0931618</td>\n",
       "    </tr>\n",
       "    <tr>\n",
       "      <th>mean_score_time</th>\n",
       "      <td>0.00105619</td>\n",
       "      <td>0.00076046</td>\n",
       "      <td>0.000861692</td>\n",
       "      <td>0.00046196</td>\n",
       "      <td>0.000391436</td>\n",
       "      <td>0.000410652</td>\n",
       "      <td>0.000455427</td>\n",
       "      <td>0.000425196</td>\n",
       "      <td>0.000410843</td>\n",
       "      <td>0.000370979</td>\n",
       "      <td>...</td>\n",
       "      <td>0.000381374</td>\n",
       "      <td>0.000391197</td>\n",
       "      <td>0.000363636</td>\n",
       "      <td>0.000370979</td>\n",
       "      <td>0.000339222</td>\n",
       "      <td>0.000365973</td>\n",
       "      <td>0.000361633</td>\n",
       "      <td>0.000522423</td>\n",
       "      <td>0.000662041</td>\n",
       "      <td>0.000554609</td>\n",
       "    </tr>\n",
       "    <tr>\n",
       "      <th>mean_test_score</th>\n",
       "      <td>0.371212</td>\n",
       "      <td>0.371212</td>\n",
       "      <td>0.371212</td>\n",
       "      <td>0.371212</td>\n",
       "      <td>0.371212</td>\n",
       "      <td>0.371212</td>\n",
       "      <td>0.371212</td>\n",
       "      <td>0.371212</td>\n",
       "      <td>0.371212</td>\n",
       "      <td>0.371212</td>\n",
       "      <td>...</td>\n",
       "      <td>0.409091</td>\n",
       "      <td>0.371212</td>\n",
       "      <td>0.371212</td>\n",
       "      <td>0.371212</td>\n",
       "      <td>0.772727</td>\n",
       "      <td>0.901515</td>\n",
       "      <td>0.94697</td>\n",
       "      <td>0.924242</td>\n",
       "      <td>0.931818</td>\n",
       "      <td>0.931818</td>\n",
       "    </tr>\n",
       "    <tr>\n",
       "      <th>mean_train_score</th>\n",
       "      <td>0.371222</td>\n",
       "      <td>0.371222</td>\n",
       "      <td>0.371222</td>\n",
       "      <td>0.371222</td>\n",
       "      <td>0.371222</td>\n",
       "      <td>0.371222</td>\n",
       "      <td>0.371222</td>\n",
       "      <td>0.371222</td>\n",
       "      <td>0.371222</td>\n",
       "      <td>0.371222</td>\n",
       "      <td>...</td>\n",
       "      <td>1</td>\n",
       "      <td>1</td>\n",
       "      <td>1</td>\n",
       "      <td>1</td>\n",
       "      <td>0.797397</td>\n",
       "      <td>0.933795</td>\n",
       "      <td>0.979226</td>\n",
       "      <td>0.998113</td>\n",
       "      <td>1</td>\n",
       "      <td>1</td>\n",
       "    </tr>\n",
       "    <tr>\n",
       "      <th>param_C</th>\n",
       "      <td>0.001</td>\n",
       "      <td>0.001</td>\n",
       "      <td>0.001</td>\n",
       "      <td>0.001</td>\n",
       "      <td>0.001</td>\n",
       "      <td>0.001</td>\n",
       "      <td>0.01</td>\n",
       "      <td>0.01</td>\n",
       "      <td>0.01</td>\n",
       "      <td>0.01</td>\n",
       "      <td>...</td>\n",
       "      <td>100</td>\n",
       "      <td>100</td>\n",
       "      <td>100</td>\n",
       "      <td>100</td>\n",
       "      <td>0.001</td>\n",
       "      <td>0.01</td>\n",
       "      <td>0.1</td>\n",
       "      <td>1</td>\n",
       "      <td>10</td>\n",
       "      <td>100</td>\n",
       "    </tr>\n",
       "    <tr>\n",
       "      <th>param_gamma</th>\n",
       "      <td>0.001</td>\n",
       "      <td>0.01</td>\n",
       "      <td>0.1</td>\n",
       "      <td>1</td>\n",
       "      <td>10</td>\n",
       "      <td>100</td>\n",
       "      <td>0.001</td>\n",
       "      <td>0.01</td>\n",
       "      <td>0.1</td>\n",
       "      <td>1</td>\n",
       "      <td>...</td>\n",
       "      <td>0.1</td>\n",
       "      <td>1</td>\n",
       "      <td>10</td>\n",
       "      <td>100</td>\n",
       "      <td>NaN</td>\n",
       "      <td>NaN</td>\n",
       "      <td>NaN</td>\n",
       "      <td>NaN</td>\n",
       "      <td>NaN</td>\n",
       "      <td>NaN</td>\n",
       "    </tr>\n",
       "    <tr>\n",
       "      <th>param_kernel</th>\n",
       "      <td>rbf</td>\n",
       "      <td>rbf</td>\n",
       "      <td>rbf</td>\n",
       "      <td>rbf</td>\n",
       "      <td>rbf</td>\n",
       "      <td>rbf</td>\n",
       "      <td>rbf</td>\n",
       "      <td>rbf</td>\n",
       "      <td>rbf</td>\n",
       "      <td>rbf</td>\n",
       "      <td>...</td>\n",
       "      <td>rbf</td>\n",
       "      <td>rbf</td>\n",
       "      <td>rbf</td>\n",
       "      <td>rbf</td>\n",
       "      <td>linear</td>\n",
       "      <td>linear</td>\n",
       "      <td>linear</td>\n",
       "      <td>linear</td>\n",
       "      <td>linear</td>\n",
       "      <td>linear</td>\n",
       "    </tr>\n",
       "    <tr>\n",
       "      <th>params</th>\n",
       "      <td>{u'kernel': u'rbf', u'C': 0.001, u'gamma': 0.001}</td>\n",
       "      <td>{u'kernel': u'rbf', u'C': 0.001, u'gamma': 0.01}</td>\n",
       "      <td>{u'kernel': u'rbf', u'C': 0.001, u'gamma': 0.1}</td>\n",
       "      <td>{u'kernel': u'rbf', u'C': 0.001, u'gamma': 1}</td>\n",
       "      <td>{u'kernel': u'rbf', u'C': 0.001, u'gamma': 10}</td>\n",
       "      <td>{u'kernel': u'rbf', u'C': 0.001, u'gamma': 100}</td>\n",
       "      <td>{u'kernel': u'rbf', u'C': 0.01, u'gamma': 0.001}</td>\n",
       "      <td>{u'kernel': u'rbf', u'C': 0.01, u'gamma': 0.01}</td>\n",
       "      <td>{u'kernel': u'rbf', u'C': 0.01, u'gamma': 0.1}</td>\n",
       "      <td>{u'kernel': u'rbf', u'C': 0.01, u'gamma': 1}</td>\n",
       "      <td>...</td>\n",
       "      <td>{u'kernel': u'rbf', u'C': 100, u'gamma': 0.1}</td>\n",
       "      <td>{u'kernel': u'rbf', u'C': 100, u'gamma': 1}</td>\n",
       "      <td>{u'kernel': u'rbf', u'C': 100, u'gamma': 10}</td>\n",
       "      <td>{u'kernel': u'rbf', u'C': 100, u'gamma': 100}</td>\n",
       "      <td>{u'kernel': u'linear', u'C': 0.001}</td>\n",
       "      <td>{u'kernel': u'linear', u'C': 0.01}</td>\n",
       "      <td>{u'kernel': u'linear', u'C': 0.1}</td>\n",
       "      <td>{u'kernel': u'linear', u'C': 1}</td>\n",
       "      <td>{u'kernel': u'linear', u'C': 10}</td>\n",
       "      <td>{u'kernel': u'linear', u'C': 100}</td>\n",
       "    </tr>\n",
       "    <tr>\n",
       "      <th>rank_test_score</th>\n",
       "      <td>17</td>\n",
       "      <td>17</td>\n",
       "      <td>17</td>\n",
       "      <td>17</td>\n",
       "      <td>17</td>\n",
       "      <td>17</td>\n",
       "      <td>17</td>\n",
       "      <td>17</td>\n",
       "      <td>17</td>\n",
       "      <td>17</td>\n",
       "      <td>...</td>\n",
       "      <td>14</td>\n",
       "      <td>17</td>\n",
       "      <td>17</td>\n",
       "      <td>17</td>\n",
       "      <td>7</td>\n",
       "      <td>5</td>\n",
       "      <td>1</td>\n",
       "      <td>4</td>\n",
       "      <td>2</td>\n",
       "      <td>2</td>\n",
       "    </tr>\n",
       "    <tr>\n",
       "      <th>split0_test_score</th>\n",
       "      <td>0.357143</td>\n",
       "      <td>0.357143</td>\n",
       "      <td>0.357143</td>\n",
       "      <td>0.357143</td>\n",
       "      <td>0.357143</td>\n",
       "      <td>0.357143</td>\n",
       "      <td>0.357143</td>\n",
       "      <td>0.357143</td>\n",
       "      <td>0.357143</td>\n",
       "      <td>0.357143</td>\n",
       "      <td>...</td>\n",
       "      <td>0.428571</td>\n",
       "      <td>0.357143</td>\n",
       "      <td>0.357143</td>\n",
       "      <td>0.357143</td>\n",
       "      <td>0.714286</td>\n",
       "      <td>0.785714</td>\n",
       "      <td>0.928571</td>\n",
       "      <td>0.928571</td>\n",
       "      <td>0.928571</td>\n",
       "      <td>0.928571</td>\n",
       "    </tr>\n",
       "    <tr>\n",
       "      <th>split0_train_score</th>\n",
       "      <td>0.375</td>\n",
       "      <td>0.375</td>\n",
       "      <td>0.375</td>\n",
       "      <td>0.375</td>\n",
       "      <td>0.375</td>\n",
       "      <td>0.375</td>\n",
       "      <td>0.375</td>\n",
       "      <td>0.375</td>\n",
       "      <td>0.375</td>\n",
       "      <td>0.375</td>\n",
       "      <td>...</td>\n",
       "      <td>1</td>\n",
       "      <td>1</td>\n",
       "      <td>1</td>\n",
       "      <td>1</td>\n",
       "      <td>0.798077</td>\n",
       "      <td>0.942308</td>\n",
       "      <td>1</td>\n",
       "      <td>1</td>\n",
       "      <td>1</td>\n",
       "      <td>1</td>\n",
       "    </tr>\n",
       "    <tr>\n",
       "      <th>split1_test_score</th>\n",
       "      <td>0.37037</td>\n",
       "      <td>0.37037</td>\n",
       "      <td>0.37037</td>\n",
       "      <td>0.37037</td>\n",
       "      <td>0.37037</td>\n",
       "      <td>0.37037</td>\n",
       "      <td>0.37037</td>\n",
       "      <td>0.37037</td>\n",
       "      <td>0.37037</td>\n",
       "      <td>0.37037</td>\n",
       "      <td>...</td>\n",
       "      <td>0.407407</td>\n",
       "      <td>0.37037</td>\n",
       "      <td>0.37037</td>\n",
       "      <td>0.37037</td>\n",
       "      <td>0.777778</td>\n",
       "      <td>0.962963</td>\n",
       "      <td>0.962963</td>\n",
       "      <td>0.962963</td>\n",
       "      <td>0.962963</td>\n",
       "      <td>0.962963</td>\n",
       "    </tr>\n",
       "    <tr>\n",
       "      <th>split1_train_score</th>\n",
       "      <td>0.371429</td>\n",
       "      <td>0.371429</td>\n",
       "      <td>0.371429</td>\n",
       "      <td>0.371429</td>\n",
       "      <td>0.371429</td>\n",
       "      <td>0.371429</td>\n",
       "      <td>0.371429</td>\n",
       "      <td>0.371429</td>\n",
       "      <td>0.371429</td>\n",
       "      <td>0.371429</td>\n",
       "      <td>...</td>\n",
       "      <td>1</td>\n",
       "      <td>1</td>\n",
       "      <td>1</td>\n",
       "      <td>1</td>\n",
       "      <td>0.8</td>\n",
       "      <td>0.933333</td>\n",
       "      <td>0.961905</td>\n",
       "      <td>1</td>\n",
       "      <td>1</td>\n",
       "      <td>1</td>\n",
       "    </tr>\n",
       "    <tr>\n",
       "      <th>split2_test_score</th>\n",
       "      <td>0.384615</td>\n",
       "      <td>0.384615</td>\n",
       "      <td>0.384615</td>\n",
       "      <td>0.384615</td>\n",
       "      <td>0.384615</td>\n",
       "      <td>0.384615</td>\n",
       "      <td>0.384615</td>\n",
       "      <td>0.384615</td>\n",
       "      <td>0.384615</td>\n",
       "      <td>0.384615</td>\n",
       "      <td>...</td>\n",
       "      <td>0.346154</td>\n",
       "      <td>0.384615</td>\n",
       "      <td>0.384615</td>\n",
       "      <td>0.384615</td>\n",
       "      <td>0.769231</td>\n",
       "      <td>0.923077</td>\n",
       "      <td>0.923077</td>\n",
       "      <td>0.884615</td>\n",
       "      <td>0.923077</td>\n",
       "      <td>0.923077</td>\n",
       "    </tr>\n",
       "    <tr>\n",
       "      <th>split2_train_score</th>\n",
       "      <td>0.367925</td>\n",
       "      <td>0.367925</td>\n",
       "      <td>0.367925</td>\n",
       "      <td>0.367925</td>\n",
       "      <td>0.367925</td>\n",
       "      <td>0.367925</td>\n",
       "      <td>0.367925</td>\n",
       "      <td>0.367925</td>\n",
       "      <td>0.367925</td>\n",
       "      <td>0.367925</td>\n",
       "      <td>...</td>\n",
       "      <td>1</td>\n",
       "      <td>1</td>\n",
       "      <td>1</td>\n",
       "      <td>1</td>\n",
       "      <td>0.801887</td>\n",
       "      <td>0.95283</td>\n",
       "      <td>0.981132</td>\n",
       "      <td>0.990566</td>\n",
       "      <td>1</td>\n",
       "      <td>1</td>\n",
       "    </tr>\n",
       "    <tr>\n",
       "      <th>split3_test_score</th>\n",
       "      <td>0.384615</td>\n",
       "      <td>0.384615</td>\n",
       "      <td>0.384615</td>\n",
       "      <td>0.384615</td>\n",
       "      <td>0.384615</td>\n",
       "      <td>0.384615</td>\n",
       "      <td>0.384615</td>\n",
       "      <td>0.384615</td>\n",
       "      <td>0.384615</td>\n",
       "      <td>0.384615</td>\n",
       "      <td>...</td>\n",
       "      <td>0.423077</td>\n",
       "      <td>0.384615</td>\n",
       "      <td>0.384615</td>\n",
       "      <td>0.384615</td>\n",
       "      <td>0.769231</td>\n",
       "      <td>0.846154</td>\n",
       "      <td>0.961538</td>\n",
       "      <td>0.923077</td>\n",
       "      <td>0.923077</td>\n",
       "      <td>0.923077</td>\n",
       "    </tr>\n",
       "    <tr>\n",
       "      <th>split3_train_score</th>\n",
       "      <td>0.367925</td>\n",
       "      <td>0.367925</td>\n",
       "      <td>0.367925</td>\n",
       "      <td>0.367925</td>\n",
       "      <td>0.367925</td>\n",
       "      <td>0.367925</td>\n",
       "      <td>0.367925</td>\n",
       "      <td>0.367925</td>\n",
       "      <td>0.367925</td>\n",
       "      <td>0.367925</td>\n",
       "      <td>...</td>\n",
       "      <td>1</td>\n",
       "      <td>1</td>\n",
       "      <td>1</td>\n",
       "      <td>1</td>\n",
       "      <td>0.811321</td>\n",
       "      <td>0.933962</td>\n",
       "      <td>0.981132</td>\n",
       "      <td>1</td>\n",
       "      <td>1</td>\n",
       "      <td>1</td>\n",
       "    </tr>\n",
       "    <tr>\n",
       "      <th>split4_test_score</th>\n",
       "      <td>0.36</td>\n",
       "      <td>0.36</td>\n",
       "      <td>0.36</td>\n",
       "      <td>0.36</td>\n",
       "      <td>0.36</td>\n",
       "      <td>0.36</td>\n",
       "      <td>0.36</td>\n",
       "      <td>0.36</td>\n",
       "      <td>0.36</td>\n",
       "      <td>0.36</td>\n",
       "      <td>...</td>\n",
       "      <td>0.44</td>\n",
       "      <td>0.36</td>\n",
       "      <td>0.36</td>\n",
       "      <td>0.36</td>\n",
       "      <td>0.84</td>\n",
       "      <td>1</td>\n",
       "      <td>0.96</td>\n",
       "      <td>0.92</td>\n",
       "      <td>0.92</td>\n",
       "      <td>0.92</td>\n",
       "    </tr>\n",
       "    <tr>\n",
       "      <th>split4_train_score</th>\n",
       "      <td>0.373832</td>\n",
       "      <td>0.373832</td>\n",
       "      <td>0.373832</td>\n",
       "      <td>0.373832</td>\n",
       "      <td>0.373832</td>\n",
       "      <td>0.373832</td>\n",
       "      <td>0.373832</td>\n",
       "      <td>0.373832</td>\n",
       "      <td>0.373832</td>\n",
       "      <td>0.373832</td>\n",
       "      <td>...</td>\n",
       "      <td>1</td>\n",
       "      <td>1</td>\n",
       "      <td>1</td>\n",
       "      <td>1</td>\n",
       "      <td>0.775701</td>\n",
       "      <td>0.906542</td>\n",
       "      <td>0.971963</td>\n",
       "      <td>1</td>\n",
       "      <td>1</td>\n",
       "      <td>1</td>\n",
       "    </tr>\n",
       "    <tr>\n",
       "      <th>std_fit_time</th>\n",
       "      <td>0.000489005</td>\n",
       "      <td>0.00112046</td>\n",
       "      <td>0.000562634</td>\n",
       "      <td>9.95724e-05</td>\n",
       "      <td>8.48011e-05</td>\n",
       "      <td>0.000181712</td>\n",
       "      <td>0.00041685</td>\n",
       "      <td>0.000451253</td>\n",
       "      <td>5.52417e-05</td>\n",
       "      <td>1.93649e-05</td>\n",
       "      <td>...</td>\n",
       "      <td>8.17974e-05</td>\n",
       "      <td>1.91719e-05</td>\n",
       "      <td>2.36578e-05</td>\n",
       "      <td>9.43438e-05</td>\n",
       "      <td>6.88714e-05</td>\n",
       "      <td>0.00251777</td>\n",
       "      <td>0.0115565</td>\n",
       "      <td>0.0358611</td>\n",
       "      <td>0.0526395</td>\n",
       "      <td>0.0396936</td>\n",
       "    </tr>\n",
       "    <tr>\n",
       "      <th>std_score_time</th>\n",
       "      <td>0.000301428</td>\n",
       "      <td>0.000252132</td>\n",
       "      <td>0.000319611</td>\n",
       "      <td>2.13826e-05</td>\n",
       "      <td>2.1622e-05</td>\n",
       "      <td>6.44786e-05</td>\n",
       "      <td>9.72524e-05</td>\n",
       "      <td>4.25363e-05</td>\n",
       "      <td>2.44931e-05</td>\n",
       "      <td>8.77043e-06</td>\n",
       "      <td>...</td>\n",
       "      <td>4.78883e-06</td>\n",
       "      <td>4.94102e-05</td>\n",
       "      <td>4.05003e-06</td>\n",
       "      <td>1.68115e-05</td>\n",
       "      <td>3.6296e-06</td>\n",
       "      <td>2.95923e-05</td>\n",
       "      <td>2.46794e-05</td>\n",
       "      <td>5.22001e-06</td>\n",
       "      <td>0.000258082</td>\n",
       "      <td>4.63223e-05</td>\n",
       "    </tr>\n",
       "    <tr>\n",
       "      <th>std_test_score</th>\n",
       "      <td>0.0116924</td>\n",
       "      <td>0.0116924</td>\n",
       "      <td>0.0116924</td>\n",
       "      <td>0.0116924</td>\n",
       "      <td>0.0116924</td>\n",
       "      <td>0.0116924</td>\n",
       "      <td>0.0116924</td>\n",
       "      <td>0.0116924</td>\n",
       "      <td>0.0116924</td>\n",
       "      <td>0.0116924</td>\n",
       "      <td>...</td>\n",
       "      <td>0.0328749</td>\n",
       "      <td>0.0116924</td>\n",
       "      <td>0.0116924</td>\n",
       "      <td>0.0116924</td>\n",
       "      <td>0.0398954</td>\n",
       "      <td>0.0784161</td>\n",
       "      <td>0.0176218</td>\n",
       "      <td>0.0249725</td>\n",
       "      <td>0.0160374</td>\n",
       "      <td>0.0160374</td>\n",
       "    </tr>\n",
       "    <tr>\n",
       "      <th>std_train_score</th>\n",
       "      <td>0.00292826</td>\n",
       "      <td>0.00292826</td>\n",
       "      <td>0.00292826</td>\n",
       "      <td>0.00292826</td>\n",
       "      <td>0.00292826</td>\n",
       "      <td>0.00292826</td>\n",
       "      <td>0.00292826</td>\n",
       "      <td>0.00292826</td>\n",
       "      <td>0.00292826</td>\n",
       "      <td>0.00292826</td>\n",
       "      <td>...</td>\n",
       "      <td>0</td>\n",
       "      <td>0</td>\n",
       "      <td>0</td>\n",
       "      <td>0</td>\n",
       "      <td>0.0117642</td>\n",
       "      <td>0.0153478</td>\n",
       "      <td>0.0125826</td>\n",
       "      <td>0.00377358</td>\n",
       "      <td>0</td>\n",
       "      <td>0</td>\n",
       "    </tr>\n",
       "  </tbody>\n",
       "</table>\n",
       "<p>23 rows × 42 columns</p>\n",
       "</div>"
      ],
      "text/plain": [
       "                                                                   0   \\\n",
       "mean_fit_time                                              0.00310116   \n",
       "mean_score_time                                            0.00105619   \n",
       "mean_test_score                                              0.371212   \n",
       "mean_train_score                                             0.371222   \n",
       "param_C                                                         0.001   \n",
       "param_gamma                                                     0.001   \n",
       "param_kernel                                                      rbf   \n",
       "params              {u'kernel': u'rbf', u'C': 0.001, u'gamma': 0.001}   \n",
       "rank_test_score                                                    17   \n",
       "split0_test_score                                            0.357143   \n",
       "split0_train_score                                              0.375   \n",
       "split1_test_score                                             0.37037   \n",
       "split1_train_score                                           0.371429   \n",
       "split2_test_score                                            0.384615   \n",
       "split2_train_score                                           0.367925   \n",
       "split3_test_score                                            0.384615   \n",
       "split3_train_score                                           0.367925   \n",
       "split4_test_score                                                0.36   \n",
       "split4_train_score                                           0.373832   \n",
       "std_fit_time                                              0.000489005   \n",
       "std_score_time                                            0.000301428   \n",
       "std_test_score                                              0.0116924   \n",
       "std_train_score                                            0.00292826   \n",
       "\n",
       "                                                                  1   \\\n",
       "mean_fit_time                                             0.00283356   \n",
       "mean_score_time                                           0.00076046   \n",
       "mean_test_score                                             0.371212   \n",
       "mean_train_score                                            0.371222   \n",
       "param_C                                                        0.001   \n",
       "param_gamma                                                     0.01   \n",
       "param_kernel                                                     rbf   \n",
       "params              {u'kernel': u'rbf', u'C': 0.001, u'gamma': 0.01}   \n",
       "rank_test_score                                                   17   \n",
       "split0_test_score                                           0.357143   \n",
       "split0_train_score                                             0.375   \n",
       "split1_test_score                                            0.37037   \n",
       "split1_train_score                                          0.371429   \n",
       "split2_test_score                                           0.384615   \n",
       "split2_train_score                                          0.367925   \n",
       "split3_test_score                                           0.384615   \n",
       "split3_train_score                                          0.367925   \n",
       "split4_test_score                                               0.36   \n",
       "split4_train_score                                          0.373832   \n",
       "std_fit_time                                              0.00112046   \n",
       "std_score_time                                           0.000252132   \n",
       "std_test_score                                             0.0116924   \n",
       "std_train_score                                           0.00292826   \n",
       "\n",
       "                                                                 2   \\\n",
       "mean_fit_time                                            0.00244918   \n",
       "mean_score_time                                         0.000861692   \n",
       "mean_test_score                                            0.371212   \n",
       "mean_train_score                                           0.371222   \n",
       "param_C                                                       0.001   \n",
       "param_gamma                                                     0.1   \n",
       "param_kernel                                                    rbf   \n",
       "params              {u'kernel': u'rbf', u'C': 0.001, u'gamma': 0.1}   \n",
       "rank_test_score                                                  17   \n",
       "split0_test_score                                          0.357143   \n",
       "split0_train_score                                            0.375   \n",
       "split1_test_score                                           0.37037   \n",
       "split1_train_score                                         0.371429   \n",
       "split2_test_score                                          0.384615   \n",
       "split2_train_score                                         0.367925   \n",
       "split3_test_score                                          0.384615   \n",
       "split3_train_score                                         0.367925   \n",
       "split4_test_score                                              0.36   \n",
       "split4_train_score                                         0.373832   \n",
       "std_fit_time                                            0.000562634   \n",
       "std_score_time                                          0.000319611   \n",
       "std_test_score                                            0.0116924   \n",
       "std_train_score                                          0.00292826   \n",
       "\n",
       "                                                               3   \\\n",
       "mean_fit_time                                          0.00168414   \n",
       "mean_score_time                                        0.00046196   \n",
       "mean_test_score                                          0.371212   \n",
       "mean_train_score                                         0.371222   \n",
       "param_C                                                     0.001   \n",
       "param_gamma                                                     1   \n",
       "param_kernel                                                  rbf   \n",
       "params              {u'kernel': u'rbf', u'C': 0.001, u'gamma': 1}   \n",
       "rank_test_score                                                17   \n",
       "split0_test_score                                        0.357143   \n",
       "split0_train_score                                          0.375   \n",
       "split1_test_score                                         0.37037   \n",
       "split1_train_score                                       0.371429   \n",
       "split2_test_score                                        0.384615   \n",
       "split2_train_score                                       0.367925   \n",
       "split3_test_score                                        0.384615   \n",
       "split3_train_score                                       0.367925   \n",
       "split4_test_score                                            0.36   \n",
       "split4_train_score                                       0.373832   \n",
       "std_fit_time                                          9.95724e-05   \n",
       "std_score_time                                        2.13826e-05   \n",
       "std_test_score                                          0.0116924   \n",
       "std_train_score                                        0.00292826   \n",
       "\n",
       "                                                                4   \\\n",
       "mean_fit_time                                           0.00137773   \n",
       "mean_score_time                                        0.000391436   \n",
       "mean_test_score                                           0.371212   \n",
       "mean_train_score                                          0.371222   \n",
       "param_C                                                      0.001   \n",
       "param_gamma                                                     10   \n",
       "param_kernel                                                   rbf   \n",
       "params              {u'kernel': u'rbf', u'C': 0.001, u'gamma': 10}   \n",
       "rank_test_score                                                 17   \n",
       "split0_test_score                                         0.357143   \n",
       "split0_train_score                                           0.375   \n",
       "split1_test_score                                          0.37037   \n",
       "split1_train_score                                        0.371429   \n",
       "split2_test_score                                         0.384615   \n",
       "split2_train_score                                        0.367925   \n",
       "split3_test_score                                         0.384615   \n",
       "split3_train_score                                        0.367925   \n",
       "split4_test_score                                             0.36   \n",
       "split4_train_score                                        0.373832   \n",
       "std_fit_time                                           8.48011e-05   \n",
       "std_score_time                                          2.1622e-05   \n",
       "std_test_score                                           0.0116924   \n",
       "std_train_score                                         0.00292826   \n",
       "\n",
       "                                                                 5   \\\n",
       "mean_fit_time                                            0.00140095   \n",
       "mean_score_time                                         0.000410652   \n",
       "mean_test_score                                            0.371212   \n",
       "mean_train_score                                           0.371222   \n",
       "param_C                                                       0.001   \n",
       "param_gamma                                                     100   \n",
       "param_kernel                                                    rbf   \n",
       "params              {u'kernel': u'rbf', u'C': 0.001, u'gamma': 100}   \n",
       "rank_test_score                                                  17   \n",
       "split0_test_score                                          0.357143   \n",
       "split0_train_score                                            0.375   \n",
       "split1_test_score                                           0.37037   \n",
       "split1_train_score                                         0.371429   \n",
       "split2_test_score                                          0.384615   \n",
       "split2_train_score                                         0.367925   \n",
       "split3_test_score                                          0.384615   \n",
       "split3_train_score                                         0.367925   \n",
       "split4_test_score                                              0.36   \n",
       "split4_train_score                                         0.373832   \n",
       "std_fit_time                                            0.000181712   \n",
       "std_score_time                                          6.44786e-05   \n",
       "std_test_score                                            0.0116924   \n",
       "std_train_score                                          0.00292826   \n",
       "\n",
       "                                                                  6   \\\n",
       "mean_fit_time                                             0.00173402   \n",
       "mean_score_time                                          0.000455427   \n",
       "mean_test_score                                             0.371212   \n",
       "mean_train_score                                            0.371222   \n",
       "param_C                                                         0.01   \n",
       "param_gamma                                                    0.001   \n",
       "param_kernel                                                     rbf   \n",
       "params              {u'kernel': u'rbf', u'C': 0.01, u'gamma': 0.001}   \n",
       "rank_test_score                                                   17   \n",
       "split0_test_score                                           0.357143   \n",
       "split0_train_score                                             0.375   \n",
       "split1_test_score                                            0.37037   \n",
       "split1_train_score                                          0.371429   \n",
       "split2_test_score                                           0.384615   \n",
       "split2_train_score                                          0.367925   \n",
       "split3_test_score                                           0.384615   \n",
       "split3_train_score                                          0.367925   \n",
       "split4_test_score                                               0.36   \n",
       "split4_train_score                                          0.373832   \n",
       "std_fit_time                                              0.00041685   \n",
       "std_score_time                                           9.72524e-05   \n",
       "std_test_score                                             0.0116924   \n",
       "std_train_score                                           0.00292826   \n",
       "\n",
       "                                                                 7   \\\n",
       "mean_fit_time                                            0.00174141   \n",
       "mean_score_time                                         0.000425196   \n",
       "mean_test_score                                            0.371212   \n",
       "mean_train_score                                           0.371222   \n",
       "param_C                                                        0.01   \n",
       "param_gamma                                                    0.01   \n",
       "param_kernel                                                    rbf   \n",
       "params              {u'kernel': u'rbf', u'C': 0.01, u'gamma': 0.01}   \n",
       "rank_test_score                                                  17   \n",
       "split0_test_score                                          0.357143   \n",
       "split0_train_score                                            0.375   \n",
       "split1_test_score                                           0.37037   \n",
       "split1_train_score                                         0.371429   \n",
       "split2_test_score                                          0.384615   \n",
       "split2_train_score                                         0.367925   \n",
       "split3_test_score                                          0.384615   \n",
       "split3_train_score                                         0.367925   \n",
       "split4_test_score                                              0.36   \n",
       "split4_train_score                                         0.373832   \n",
       "std_fit_time                                            0.000451253   \n",
       "std_score_time                                          4.25363e-05   \n",
       "std_test_score                                            0.0116924   \n",
       "std_train_score                                          0.00292826   \n",
       "\n",
       "                                                                8   \\\n",
       "mean_fit_time                                           0.00150719   \n",
       "mean_score_time                                        0.000410843   \n",
       "mean_test_score                                           0.371212   \n",
       "mean_train_score                                          0.371222   \n",
       "param_C                                                       0.01   \n",
       "param_gamma                                                    0.1   \n",
       "param_kernel                                                   rbf   \n",
       "params              {u'kernel': u'rbf', u'C': 0.01, u'gamma': 0.1}   \n",
       "rank_test_score                                                 17   \n",
       "split0_test_score                                         0.357143   \n",
       "split0_train_score                                           0.375   \n",
       "split1_test_score                                          0.37037   \n",
       "split1_train_score                                        0.371429   \n",
       "split2_test_score                                         0.384615   \n",
       "split2_train_score                                        0.367925   \n",
       "split3_test_score                                         0.384615   \n",
       "split3_train_score                                        0.367925   \n",
       "split4_test_score                                             0.36   \n",
       "split4_train_score                                        0.373832   \n",
       "std_fit_time                                           5.52417e-05   \n",
       "std_score_time                                         2.44931e-05   \n",
       "std_test_score                                           0.0116924   \n",
       "std_train_score                                         0.00292826   \n",
       "\n",
       "                                                              9   \\\n",
       "mean_fit_time                                         0.00134864   \n",
       "mean_score_time                                      0.000370979   \n",
       "mean_test_score                                         0.371212   \n",
       "mean_train_score                                        0.371222   \n",
       "param_C                                                     0.01   \n",
       "param_gamma                                                    1   \n",
       "param_kernel                                                 rbf   \n",
       "params              {u'kernel': u'rbf', u'C': 0.01, u'gamma': 1}   \n",
       "rank_test_score                                               17   \n",
       "split0_test_score                                       0.357143   \n",
       "split0_train_score                                         0.375   \n",
       "split1_test_score                                        0.37037   \n",
       "split1_train_score                                      0.371429   \n",
       "split2_test_score                                       0.384615   \n",
       "split2_train_score                                      0.367925   \n",
       "split3_test_score                                       0.384615   \n",
       "split3_train_score                                      0.367925   \n",
       "split4_test_score                                           0.36   \n",
       "split4_train_score                                      0.373832   \n",
       "std_fit_time                                         1.93649e-05   \n",
       "std_score_time                                       8.77043e-06   \n",
       "std_test_score                                         0.0116924   \n",
       "std_train_score                                       0.00292826   \n",
       "\n",
       "                                  ...                  \\\n",
       "mean_fit_time                     ...                   \n",
       "mean_score_time                   ...                   \n",
       "mean_test_score                   ...                   \n",
       "mean_train_score                  ...                   \n",
       "param_C                           ...                   \n",
       "param_gamma                       ...                   \n",
       "param_kernel                      ...                   \n",
       "params                            ...                   \n",
       "rank_test_score                   ...                   \n",
       "split0_test_score                 ...                   \n",
       "split0_train_score                ...                   \n",
       "split1_test_score                 ...                   \n",
       "split1_train_score                ...                   \n",
       "split2_test_score                 ...                   \n",
       "split2_train_score                ...                   \n",
       "split3_test_score                 ...                   \n",
       "split3_train_score                ...                   \n",
       "split4_test_score                 ...                   \n",
       "split4_train_score                ...                   \n",
       "std_fit_time                      ...                   \n",
       "std_score_time                    ...                   \n",
       "std_test_score                    ...                   \n",
       "std_train_score                   ...                   \n",
       "\n",
       "                                                               32  \\\n",
       "mean_fit_time                                          0.00164862   \n",
       "mean_score_time                                       0.000381374   \n",
       "mean_test_score                                          0.409091   \n",
       "mean_train_score                                                1   \n",
       "param_C                                                       100   \n",
       "param_gamma                                                   0.1   \n",
       "param_kernel                                                  rbf   \n",
       "params              {u'kernel': u'rbf', u'C': 100, u'gamma': 0.1}   \n",
       "rank_test_score                                                14   \n",
       "split0_test_score                                        0.428571   \n",
       "split0_train_score                                              1   \n",
       "split1_test_score                                        0.407407   \n",
       "split1_train_score                                              1   \n",
       "split2_test_score                                        0.346154   \n",
       "split2_train_score                                              1   \n",
       "split3_test_score                                        0.423077   \n",
       "split3_train_score                                              1   \n",
       "split4_test_score                                            0.44   \n",
       "split4_train_score                                              1   \n",
       "std_fit_time                                          8.17974e-05   \n",
       "std_score_time                                        4.78883e-06   \n",
       "std_test_score                                          0.0328749   \n",
       "std_train_score                                                 0   \n",
       "\n",
       "                                                             33  \\\n",
       "mean_fit_time                                        0.00158486   \n",
       "mean_score_time                                     0.000391197   \n",
       "mean_test_score                                        0.371212   \n",
       "mean_train_score                                              1   \n",
       "param_C                                                     100   \n",
       "param_gamma                                                   1   \n",
       "param_kernel                                                rbf   \n",
       "params              {u'kernel': u'rbf', u'C': 100, u'gamma': 1}   \n",
       "rank_test_score                                              17   \n",
       "split0_test_score                                      0.357143   \n",
       "split0_train_score                                            1   \n",
       "split1_test_score                                       0.37037   \n",
       "split1_train_score                                            1   \n",
       "split2_test_score                                      0.384615   \n",
       "split2_train_score                                            1   \n",
       "split3_test_score                                      0.384615   \n",
       "split3_train_score                                            1   \n",
       "split4_test_score                                          0.36   \n",
       "split4_train_score                                            1   \n",
       "std_fit_time                                        1.91719e-05   \n",
       "std_score_time                                      4.94102e-05   \n",
       "std_test_score                                        0.0116924   \n",
       "std_train_score                                               0   \n",
       "\n",
       "                                                              34  \\\n",
       "mean_fit_time                                         0.00153594   \n",
       "mean_score_time                                      0.000363636   \n",
       "mean_test_score                                         0.371212   \n",
       "mean_train_score                                               1   \n",
       "param_C                                                      100   \n",
       "param_gamma                                                   10   \n",
       "param_kernel                                                 rbf   \n",
       "params              {u'kernel': u'rbf', u'C': 100, u'gamma': 10}   \n",
       "rank_test_score                                               17   \n",
       "split0_test_score                                       0.357143   \n",
       "split0_train_score                                             1   \n",
       "split1_test_score                                        0.37037   \n",
       "split1_train_score                                             1   \n",
       "split2_test_score                                       0.384615   \n",
       "split2_train_score                                             1   \n",
       "split3_test_score                                       0.384615   \n",
       "split3_train_score                                             1   \n",
       "split4_test_score                                           0.36   \n",
       "split4_train_score                                             1   \n",
       "std_fit_time                                         2.36578e-05   \n",
       "std_score_time                                       4.05003e-06   \n",
       "std_test_score                                         0.0116924   \n",
       "std_train_score                                                0   \n",
       "\n",
       "                                                               35  \\\n",
       "mean_fit_time                                            0.001583   \n",
       "mean_score_time                                       0.000370979   \n",
       "mean_test_score                                          0.371212   \n",
       "mean_train_score                                                1   \n",
       "param_C                                                       100   \n",
       "param_gamma                                                   100   \n",
       "param_kernel                                                  rbf   \n",
       "params              {u'kernel': u'rbf', u'C': 100, u'gamma': 100}   \n",
       "rank_test_score                                                17   \n",
       "split0_test_score                                        0.357143   \n",
       "split0_train_score                                              1   \n",
       "split1_test_score                                         0.37037   \n",
       "split1_train_score                                              1   \n",
       "split2_test_score                                        0.384615   \n",
       "split2_train_score                                              1   \n",
       "split3_test_score                                        0.384615   \n",
       "split3_train_score                                              1   \n",
       "split4_test_score                                            0.36   \n",
       "split4_train_score                                              1   \n",
       "std_fit_time                                          9.43438e-05   \n",
       "std_score_time                                        1.68115e-05   \n",
       "std_test_score                                          0.0116924   \n",
       "std_train_score                                                 0   \n",
       "\n",
       "                                                     36  \\\n",
       "mean_fit_time                                0.00132399   \n",
       "mean_score_time                             0.000339222   \n",
       "mean_test_score                                0.772727   \n",
       "mean_train_score                               0.797397   \n",
       "param_C                                           0.001   \n",
       "param_gamma                                         NaN   \n",
       "param_kernel                                     linear   \n",
       "params              {u'kernel': u'linear', u'C': 0.001}   \n",
       "rank_test_score                                       7   \n",
       "split0_test_score                              0.714286   \n",
       "split0_train_score                             0.798077   \n",
       "split1_test_score                              0.777778   \n",
       "split1_train_score                                  0.8   \n",
       "split2_test_score                              0.769231   \n",
       "split2_train_score                             0.801887   \n",
       "split3_test_score                              0.769231   \n",
       "split3_train_score                             0.811321   \n",
       "split4_test_score                                  0.84   \n",
       "split4_train_score                             0.775701   \n",
       "std_fit_time                                6.88714e-05   \n",
       "std_score_time                               3.6296e-06   \n",
       "std_test_score                                0.0398954   \n",
       "std_train_score                               0.0117642   \n",
       "\n",
       "                                                    37  \\\n",
       "mean_fit_time                               0.00571179   \n",
       "mean_score_time                            0.000365973   \n",
       "mean_test_score                               0.901515   \n",
       "mean_train_score                              0.933795   \n",
       "param_C                                           0.01   \n",
       "param_gamma                                        NaN   \n",
       "param_kernel                                    linear   \n",
       "params              {u'kernel': u'linear', u'C': 0.01}   \n",
       "rank_test_score                                      5   \n",
       "split0_test_score                             0.785714   \n",
       "split0_train_score                            0.942308   \n",
       "split1_test_score                             0.962963   \n",
       "split1_train_score                            0.933333   \n",
       "split2_test_score                             0.923077   \n",
       "split2_train_score                             0.95283   \n",
       "split3_test_score                             0.846154   \n",
       "split3_train_score                            0.933962   \n",
       "split4_test_score                                    1   \n",
       "split4_train_score                            0.906542   \n",
       "std_fit_time                                0.00251777   \n",
       "std_score_time                             2.95923e-05   \n",
       "std_test_score                               0.0784161   \n",
       "std_train_score                              0.0153478   \n",
       "\n",
       "                                                   38  \\\n",
       "mean_fit_time                               0.0227327   \n",
       "mean_score_time                           0.000361633   \n",
       "mean_test_score                               0.94697   \n",
       "mean_train_score                             0.979226   \n",
       "param_C                                           0.1   \n",
       "param_gamma                                       NaN   \n",
       "param_kernel                                   linear   \n",
       "params              {u'kernel': u'linear', u'C': 0.1}   \n",
       "rank_test_score                                     1   \n",
       "split0_test_score                            0.928571   \n",
       "split0_train_score                                  1   \n",
       "split1_test_score                            0.962963   \n",
       "split1_train_score                           0.961905   \n",
       "split2_test_score                            0.923077   \n",
       "split2_train_score                           0.981132   \n",
       "split3_test_score                            0.961538   \n",
       "split3_train_score                           0.981132   \n",
       "split4_test_score                                0.96   \n",
       "split4_train_score                           0.971963   \n",
       "std_fit_time                                0.0115565   \n",
       "std_score_time                            2.46794e-05   \n",
       "std_test_score                              0.0176218   \n",
       "std_train_score                             0.0125826   \n",
       "\n",
       "                                                 39  \\\n",
       "mean_fit_time                             0.0749841   \n",
       "mean_score_time                         0.000522423   \n",
       "mean_test_score                            0.924242   \n",
       "mean_train_score                           0.998113   \n",
       "param_C                                           1   \n",
       "param_gamma                                     NaN   \n",
       "param_kernel                                 linear   \n",
       "params              {u'kernel': u'linear', u'C': 1}   \n",
       "rank_test_score                                   4   \n",
       "split0_test_score                          0.928571   \n",
       "split0_train_score                                1   \n",
       "split1_test_score                          0.962963   \n",
       "split1_train_score                                1   \n",
       "split2_test_score                          0.884615   \n",
       "split2_train_score                         0.990566   \n",
       "split3_test_score                          0.923077   \n",
       "split3_train_score                                1   \n",
       "split4_test_score                              0.92   \n",
       "split4_train_score                                1   \n",
       "std_fit_time                              0.0358611   \n",
       "std_score_time                          5.22001e-06   \n",
       "std_test_score                            0.0249725   \n",
       "std_train_score                          0.00377358   \n",
       "\n",
       "                                                  40  \\\n",
       "mean_fit_time                               0.105135   \n",
       "mean_score_time                          0.000662041   \n",
       "mean_test_score                             0.931818   \n",
       "mean_train_score                                   1   \n",
       "param_C                                           10   \n",
       "param_gamma                                      NaN   \n",
       "param_kernel                                  linear   \n",
       "params              {u'kernel': u'linear', u'C': 10}   \n",
       "rank_test_score                                    2   \n",
       "split0_test_score                           0.928571   \n",
       "split0_train_score                                 1   \n",
       "split1_test_score                           0.962963   \n",
       "split1_train_score                                 1   \n",
       "split2_test_score                           0.923077   \n",
       "split2_train_score                                 1   \n",
       "split3_test_score                           0.923077   \n",
       "split3_train_score                                 1   \n",
       "split4_test_score                               0.92   \n",
       "split4_train_score                                 1   \n",
       "std_fit_time                               0.0526395   \n",
       "std_score_time                           0.000258082   \n",
       "std_test_score                             0.0160374   \n",
       "std_train_score                                    0   \n",
       "\n",
       "                                                   41  \n",
       "mean_fit_time                               0.0931618  \n",
       "mean_score_time                           0.000554609  \n",
       "mean_test_score                              0.931818  \n",
       "mean_train_score                                    1  \n",
       "param_C                                           100  \n",
       "param_gamma                                       NaN  \n",
       "param_kernel                                   linear  \n",
       "params              {u'kernel': u'linear', u'C': 100}  \n",
       "rank_test_score                                     2  \n",
       "split0_test_score                            0.928571  \n",
       "split0_train_score                                  1  \n",
       "split1_test_score                            0.962963  \n",
       "split1_train_score                                  1  \n",
       "split2_test_score                            0.923077  \n",
       "split2_train_score                                  1  \n",
       "split3_test_score                            0.923077  \n",
       "split3_train_score                                  1  \n",
       "split4_test_score                                0.92  \n",
       "split4_train_score                                  1  \n",
       "std_fit_time                                0.0396936  \n",
       "std_score_time                            4.63223e-05  \n",
       "std_test_score                              0.0160374  \n",
       "std_train_score                                     0  \n",
       "\n",
       "[23 rows x 42 columns]"
      ]
     },
     "execution_count": 73,
     "metadata": {},
     "output_type": "execute_result"
    }
   ],
   "source": [
    "pd.DataFrame(grid_search.cv_results_).T"
   ]
  },
  {
   "cell_type": "markdown",
   "metadata": {},
   "source": [
    "### Evaluation Matrics"
   ]
  },
  {
   "cell_type": "code",
   "execution_count": 151,
   "metadata": {
    "collapsed": false
   },
   "outputs": [
    {
     "data": {
      "text/html": [
       "<div>\n",
       "<style scoped>\n",
       "    .dataframe tbody tr th:only-of-type {\n",
       "        vertical-align: middle;\n",
       "    }\n",
       "\n",
       "    .dataframe tbody tr th {\n",
       "        vertical-align: top;\n",
       "    }\n",
       "\n",
       "    .dataframe thead th {\n",
       "        text-align: right;\n",
       "    }\n",
       "</style>\n",
       "<table border=\"1\" class=\"dataframe\">\n",
       "  <thead>\n",
       "    <tr style=\"text-align: right;\">\n",
       "      <th></th>\n",
       "      <th>Alcohol</th>\n",
       "      <th>Malic acid</th>\n",
       "      <th>Ash</th>\n",
       "      <th>Alcalinity of ash</th>\n",
       "      <th>Magnesium</th>\n",
       "      <th>Total phenols</th>\n",
       "      <th>Flavanoids</th>\n",
       "      <th>Nonflavanoid phenols</th>\n",
       "      <th>Proanthocyanins</th>\n",
       "      <th>Color intensity</th>\n",
       "      <th>Hue</th>\n",
       "      <th>OD280/OD315 of diluted wines</th>\n",
       "      <th>Proline</th>\n",
       "      <th>Class</th>\n",
       "    </tr>\n",
       "  </thead>\n",
       "  <tbody>\n",
       "    <tr>\n",
       "      <th>0</th>\n",
       "      <td>13.34</td>\n",
       "      <td>0.94</td>\n",
       "      <td>2.36</td>\n",
       "      <td>17.0</td>\n",
       "      <td>110</td>\n",
       "      <td>2.53</td>\n",
       "      <td>1.30</td>\n",
       "      <td>0.55</td>\n",
       "      <td>0.42</td>\n",
       "      <td>3.17</td>\n",
       "      <td>1.02</td>\n",
       "      <td>1.93</td>\n",
       "      <td>750</td>\n",
       "      <td>Wine B</td>\n",
       "    </tr>\n",
       "    <tr>\n",
       "      <th>2</th>\n",
       "      <td>13.24</td>\n",
       "      <td>3.98</td>\n",
       "      <td>2.29</td>\n",
       "      <td>17.5</td>\n",
       "      <td>103</td>\n",
       "      <td>2.64</td>\n",
       "      <td>2.63</td>\n",
       "      <td>0.32</td>\n",
       "      <td>1.66</td>\n",
       "      <td>4.36</td>\n",
       "      <td>0.82</td>\n",
       "      <td>3.00</td>\n",
       "      <td>680</td>\n",
       "      <td>Wine A</td>\n",
       "    </tr>\n",
       "    <tr>\n",
       "      <th>3</th>\n",
       "      <td>11.64</td>\n",
       "      <td>2.06</td>\n",
       "      <td>2.46</td>\n",
       "      <td>21.6</td>\n",
       "      <td>84</td>\n",
       "      <td>1.95</td>\n",
       "      <td>1.69</td>\n",
       "      <td>0.48</td>\n",
       "      <td>1.35</td>\n",
       "      <td>2.80</td>\n",
       "      <td>1.00</td>\n",
       "      <td>2.75</td>\n",
       "      <td>680</td>\n",
       "      <td>Wine B</td>\n",
       "    </tr>\n",
       "    <tr>\n",
       "      <th>5</th>\n",
       "      <td>14.22</td>\n",
       "      <td>3.99</td>\n",
       "      <td>2.51</td>\n",
       "      <td>13.2</td>\n",
       "      <td>128</td>\n",
       "      <td>3.00</td>\n",
       "      <td>3.04</td>\n",
       "      <td>0.20</td>\n",
       "      <td>2.08</td>\n",
       "      <td>5.10</td>\n",
       "      <td>0.89</td>\n",
       "      <td>3.53</td>\n",
       "      <td>760</td>\n",
       "      <td>Wine A</td>\n",
       "    </tr>\n",
       "    <tr>\n",
       "      <th>6</th>\n",
       "      <td>12.00</td>\n",
       "      <td>3.43</td>\n",
       "      <td>2.00</td>\n",
       "      <td>19.0</td>\n",
       "      <td>87</td>\n",
       "      <td>2.00</td>\n",
       "      <td>1.64</td>\n",
       "      <td>0.37</td>\n",
       "      <td>1.87</td>\n",
       "      <td>1.28</td>\n",
       "      <td>0.93</td>\n",
       "      <td>3.05</td>\n",
       "      <td>564</td>\n",
       "      <td>Wine B</td>\n",
       "    </tr>\n",
       "  </tbody>\n",
       "</table>\n",
       "</div>"
      ],
      "text/plain": [
       "   Alcohol   Malic acid    Ash  Alcalinity of ash   Magnesium   \\\n",
       "0     13.34         0.94  2.36                17.0         110   \n",
       "2     13.24         3.98  2.29                17.5         103   \n",
       "3     11.64         2.06  2.46                21.6          84   \n",
       "5     14.22         3.99  2.51                13.2         128   \n",
       "6     12.00         3.43  2.00                19.0          87   \n",
       "\n",
       "   Total phenols   Flavanoids   Nonflavanoid phenols   Proanthocyanins   \\\n",
       "0            2.53         1.30                   0.55              0.42   \n",
       "2            2.64         2.63                   0.32              1.66   \n",
       "3            1.95         1.69                   0.48              1.35   \n",
       "5            3.00         3.04                   0.20              2.08   \n",
       "6            2.00         1.64                   0.37              1.87   \n",
       "\n",
       "   Color intensity   Hue   OD280/OD315 of diluted wines   Proline    Class  \n",
       "0              3.17  1.02                           1.93       750  Wine B  \n",
       "2              4.36  0.82                           3.00       680  Wine A  \n",
       "3              2.80  1.00                           2.75       680  Wine B  \n",
       "5              5.10  0.89                           3.53       760  Wine A  \n",
       "6              1.28  0.93                           3.05       564  Wine B  "
      ]
     },
     "execution_count": 151,
     "metadata": {},
     "output_type": "execute_result"
    }
   ],
   "source": [
    "wine.head()"
   ]
  },
  {
   "cell_type": "code",
   "execution_count": 152,
   "metadata": {
    "collapsed": true
   },
   "outputs": [],
   "source": [
    "wine = wine[wine['Class'] != 'Wine C']"
   ]
  },
  {
   "cell_type": "code",
   "execution_count": 153,
   "metadata": {
    "collapsed": false
   },
   "outputs": [
    {
     "data": {
      "text/plain": [
       "Wine B    70\n",
       "Wine A    58\n",
       "Name: Class, dtype: int64"
      ]
     },
     "execution_count": 153,
     "metadata": {},
     "output_type": "execute_result"
    }
   ],
   "source": [
    "wine.Class.value_counts()"
   ]
  },
  {
   "cell_type": "code",
   "execution_count": 155,
   "metadata": {
    "collapsed": true
   },
   "outputs": [],
   "source": [
    "from sklearn.preprocessing import LabelEncoder\n",
    "\n",
    "le = LabelEncoder()"
   ]
  },
  {
   "cell_type": "code",
   "execution_count": 154,
   "metadata": {
    "collapsed": true
   },
   "outputs": [],
   "source": [
    "wine['Class'] = le.fit_transform(wine['Class'])"
   ]
  },
  {
   "cell_type": "code",
   "execution_count": 156,
   "metadata": {
    "collapsed": false
   },
   "outputs": [
    {
     "data": {
      "text/html": [
       "<div>\n",
       "<style scoped>\n",
       "    .dataframe tbody tr th:only-of-type {\n",
       "        vertical-align: middle;\n",
       "    }\n",
       "\n",
       "    .dataframe tbody tr th {\n",
       "        vertical-align: top;\n",
       "    }\n",
       "\n",
       "    .dataframe thead th {\n",
       "        text-align: right;\n",
       "    }\n",
       "</style>\n",
       "<table border=\"1\" class=\"dataframe\">\n",
       "  <thead>\n",
       "    <tr style=\"text-align: right;\">\n",
       "      <th></th>\n",
       "      <th>Alcohol</th>\n",
       "      <th>Malic acid</th>\n",
       "      <th>Ash</th>\n",
       "      <th>Alcalinity of ash</th>\n",
       "      <th>Magnesium</th>\n",
       "      <th>Total phenols</th>\n",
       "      <th>Flavanoids</th>\n",
       "      <th>Nonflavanoid phenols</th>\n",
       "      <th>Proanthocyanins</th>\n",
       "      <th>Color intensity</th>\n",
       "      <th>Hue</th>\n",
       "      <th>OD280/OD315 of diluted wines</th>\n",
       "      <th>Proline</th>\n",
       "      <th>Class</th>\n",
       "    </tr>\n",
       "  </thead>\n",
       "  <tbody>\n",
       "    <tr>\n",
       "      <th>0</th>\n",
       "      <td>13.34</td>\n",
       "      <td>0.94</td>\n",
       "      <td>2.36</td>\n",
       "      <td>17.0</td>\n",
       "      <td>110</td>\n",
       "      <td>2.53</td>\n",
       "      <td>1.30</td>\n",
       "      <td>0.55</td>\n",
       "      <td>0.42</td>\n",
       "      <td>3.17</td>\n",
       "      <td>1.02</td>\n",
       "      <td>1.93</td>\n",
       "      <td>750</td>\n",
       "      <td>1</td>\n",
       "    </tr>\n",
       "    <tr>\n",
       "      <th>2</th>\n",
       "      <td>13.24</td>\n",
       "      <td>3.98</td>\n",
       "      <td>2.29</td>\n",
       "      <td>17.5</td>\n",
       "      <td>103</td>\n",
       "      <td>2.64</td>\n",
       "      <td>2.63</td>\n",
       "      <td>0.32</td>\n",
       "      <td>1.66</td>\n",
       "      <td>4.36</td>\n",
       "      <td>0.82</td>\n",
       "      <td>3.00</td>\n",
       "      <td>680</td>\n",
       "      <td>0</td>\n",
       "    </tr>\n",
       "    <tr>\n",
       "      <th>3</th>\n",
       "      <td>11.64</td>\n",
       "      <td>2.06</td>\n",
       "      <td>2.46</td>\n",
       "      <td>21.6</td>\n",
       "      <td>84</td>\n",
       "      <td>1.95</td>\n",
       "      <td>1.69</td>\n",
       "      <td>0.48</td>\n",
       "      <td>1.35</td>\n",
       "      <td>2.80</td>\n",
       "      <td>1.00</td>\n",
       "      <td>2.75</td>\n",
       "      <td>680</td>\n",
       "      <td>1</td>\n",
       "    </tr>\n",
       "    <tr>\n",
       "      <th>5</th>\n",
       "      <td>14.22</td>\n",
       "      <td>3.99</td>\n",
       "      <td>2.51</td>\n",
       "      <td>13.2</td>\n",
       "      <td>128</td>\n",
       "      <td>3.00</td>\n",
       "      <td>3.04</td>\n",
       "      <td>0.20</td>\n",
       "      <td>2.08</td>\n",
       "      <td>5.10</td>\n",
       "      <td>0.89</td>\n",
       "      <td>3.53</td>\n",
       "      <td>760</td>\n",
       "      <td>0</td>\n",
       "    </tr>\n",
       "    <tr>\n",
       "      <th>6</th>\n",
       "      <td>12.00</td>\n",
       "      <td>3.43</td>\n",
       "      <td>2.00</td>\n",
       "      <td>19.0</td>\n",
       "      <td>87</td>\n",
       "      <td>2.00</td>\n",
       "      <td>1.64</td>\n",
       "      <td>0.37</td>\n",
       "      <td>1.87</td>\n",
       "      <td>1.28</td>\n",
       "      <td>0.93</td>\n",
       "      <td>3.05</td>\n",
       "      <td>564</td>\n",
       "      <td>1</td>\n",
       "    </tr>\n",
       "  </tbody>\n",
       "</table>\n",
       "</div>"
      ],
      "text/plain": [
       "   Alcohol   Malic acid    Ash  Alcalinity of ash   Magnesium   \\\n",
       "0     13.34         0.94  2.36                17.0         110   \n",
       "2     13.24         3.98  2.29                17.5         103   \n",
       "3     11.64         2.06  2.46                21.6          84   \n",
       "5     14.22         3.99  2.51                13.2         128   \n",
       "6     12.00         3.43  2.00                19.0          87   \n",
       "\n",
       "   Total phenols   Flavanoids   Nonflavanoid phenols   Proanthocyanins   \\\n",
       "0            2.53         1.30                   0.55              0.42   \n",
       "2            2.64         2.63                   0.32              1.66   \n",
       "3            1.95         1.69                   0.48              1.35   \n",
       "5            3.00         3.04                   0.20              2.08   \n",
       "6            2.00         1.64                   0.37              1.87   \n",
       "\n",
       "   Color intensity   Hue   OD280/OD315 of diluted wines   Proline   Class  \n",
       "0              3.17  1.02                           1.93       750      1  \n",
       "2              4.36  0.82                           3.00       680      0  \n",
       "3              2.80  1.00                           2.75       680      1  \n",
       "5              5.10  0.89                           3.53       760      0  \n",
       "6              1.28  0.93                           3.05       564      1  "
      ]
     },
     "execution_count": 156,
     "metadata": {},
     "output_type": "execute_result"
    }
   ],
   "source": [
    "wine.head()"
   ]
  },
  {
   "cell_type": "code",
   "execution_count": 157,
   "metadata": {
    "collapsed": true
   },
   "outputs": [],
   "source": [
    "X = wine.drop(\"Class\", axis=1)\n",
    "y = wine.Class"
   ]
  },
  {
   "cell_type": "code",
   "execution_count": 158,
   "metadata": {
    "collapsed": true
   },
   "outputs": [],
   "source": [
    "from sklearn.model_selection import train_test_split\n",
    "\n",
    "X_train, X_test, y_train, y_test = train_test_split(X, y, random_state=11, test_size=0.5)"
   ]
  },
  {
   "cell_type": "code",
   "execution_count": 159,
   "metadata": {
    "collapsed": false
   },
   "outputs": [
    {
     "name": "stdout",
     "output_type": "stream",
     "text": [
      "(64, 13)\n",
      "(64,)\n",
      "(64, 13)\n",
      "(64,)\n"
     ]
    }
   ],
   "source": [
    "print(X_train.shape)\n",
    "print(y_train.shape)\n",
    "print(X_test.shape)\n",
    "print(y_test.shape)"
   ]
  },
  {
   "cell_type": "code",
   "execution_count": 160,
   "metadata": {
    "collapsed": true
   },
   "outputs": [],
   "source": [
    "from sklearn.preprocessing import MinMaxScaler\n",
    "\n",
    "scaler = MinMaxScaler(feature_range=(0,1))\n",
    "scaler.fit(X_train)\n",
    "\n",
    "X_train_scaled = scaler.transform(X_train)\n",
    "X_test_scaled = scaler.transform(X_test)"
   ]
  },
  {
   "cell_type": "code",
   "execution_count": 161,
   "metadata": {
    "collapsed": false
   },
   "outputs": [
    {
     "name": "stdout",
     "output_type": "stream",
     "text": [
      "[0. 0. 0. 0. 0. 0. 0. 0. 0. 0. 0. 0. 0.]\n",
      "[1. 1. 1. 1. 1. 1. 1. 1. 1. 1. 1. 1. 1.]\n"
     ]
    }
   ],
   "source": [
    "print(X_train_scaled.min(axis=0))\n",
    "print(X_train_scaled.max(axis=0))"
   ]
  },
  {
   "cell_type": "code",
   "execution_count": 162,
   "metadata": {
    "collapsed": true
   },
   "outputs": [],
   "source": [
    "from sklearn.linear_model import LogisticRegression\n",
    "from sklearn.model_selection import GridSearchCV\n",
    "\n",
    "param_grid = {'penalty': ['l1', 'l2'],\n",
    "              'C': [0.001, 0.01, 0.1, 1, 10, 100]}\n",
    "\n",
    "grid_search = GridSearchCV(LogisticRegression(), param_grid, cv=5)"
   ]
  },
  {
   "cell_type": "code",
   "execution_count": 163,
   "metadata": {
    "collapsed": false
   },
   "outputs": [
    {
     "data": {
      "text/plain": [
       "GridSearchCV(cv=5, error_score='raise',\n",
       "       estimator=LogisticRegression(C=1.0, class_weight=None, dual=False, fit_intercept=True,\n",
       "          intercept_scaling=1, max_iter=100, multi_class='ovr', n_jobs=1,\n",
       "          penalty='l2', random_state=None, solver='liblinear', tol=0.0001,\n",
       "          verbose=0, warm_start=False),\n",
       "       fit_params={}, iid=True, n_jobs=1,\n",
       "       param_grid={'penalty': ['l1', 'l2'], 'C': [0.001, 0.01, 0.1, 1, 10, 100]},\n",
       "       pre_dispatch='2*n_jobs', refit=True, return_train_score=True,\n",
       "       scoring=None, verbose=0)"
      ]
     },
     "execution_count": 163,
     "metadata": {},
     "output_type": "execute_result"
    }
   ],
   "source": [
    "grid_search.fit(X_train_scaled, y_train)"
   ]
  },
  {
   "cell_type": "code",
   "execution_count": 164,
   "metadata": {
    "collapsed": false
   },
   "outputs": [
    {
     "name": "stdout",
     "output_type": "stream",
     "text": [
      "{'penalty': 'l1', 'C': 100}\n",
      "1.0\n"
     ]
    }
   ],
   "source": [
    "print(grid_search.best_params_)\n",
    "print(grid_search.best_score_)"
   ]
  },
  {
   "cell_type": "code",
   "execution_count": 165,
   "metadata": {
    "collapsed": false
   },
   "outputs": [
    {
     "data": {
      "text/plain": [
       "0.984375"
      ]
     },
     "execution_count": 165,
     "metadata": {},
     "output_type": "execute_result"
    }
   ],
   "source": [
    "grid_search.score(X_test_scaled, y_test)"
   ]
  },
  {
   "cell_type": "code",
   "execution_count": 166,
   "metadata": {
    "collapsed": false
   },
   "outputs": [
    {
     "data": {
      "text/plain": [
       "array([1, 1, 1, 1, 0, 1, 0, 1, 0, 1, 1, 0, 0, 0, 0, 1, 1, 1, 0, 1, 0, 0,\n",
       "       0, 0, 0, 1, 0, 0, 0, 1, 0, 1, 0, 0, 1, 0, 1, 1, 0, 1, 1, 0, 0, 0,\n",
       "       1, 0, 1, 1, 0, 1, 0, 1, 1, 1, 1, 1, 1, 0, 1, 1, 1, 0, 1, 1])"
      ]
     },
     "execution_count": 166,
     "metadata": {},
     "output_type": "execute_result"
    }
   ],
   "source": [
    "y_pred = grid_search.predict(X_test_scaled)\n",
    "\n",
    "y_pred"
   ]
  },
  {
   "cell_type": "code",
   "execution_count": 167,
   "metadata": {
    "collapsed": false
   },
   "outputs": [
    {
     "data": {
      "text/plain": [
       "array([1, 1, 1, 1, 0, 1, 1, 1, 0, 1, 1, 0, 0, 0, 0, 1, 1, 1, 0, 1, 0, 0,\n",
       "       0, 0, 0, 1, 0, 0, 0, 1, 0, 1, 0, 0, 1, 0, 1, 1, 0, 1, 1, 0, 0, 0,\n",
       "       1, 0, 1, 1, 0, 1, 0, 1, 1, 1, 1, 1, 1, 0, 1, 1, 1, 0, 1, 1])"
      ]
     },
     "execution_count": 167,
     "metadata": {},
     "output_type": "execute_result"
    }
   ],
   "source": [
    "np.array(y_test)"
   ]
  },
  {
   "cell_type": "code",
   "execution_count": 168,
   "metadata": {
    "collapsed": false
   },
   "outputs": [
    {
     "data": {
      "text/plain": [
       "0.984375"
      ]
     },
     "execution_count": 168,
     "metadata": {},
     "output_type": "execute_result"
    }
   ],
   "source": [
    "from sklearn.metrics import accuracy_score\n",
    "\n",
    "accuracy_score(y_test, y_pred)"
   ]
  },
  {
   "cell_type": "code",
   "execution_count": 169,
   "metadata": {
    "collapsed": false
   },
   "outputs": [
    {
     "data": {
      "text/plain": [
       "array([[28,  0],\n",
       "       [ 1, 35]])"
      ]
     },
     "execution_count": 169,
     "metadata": {},
     "output_type": "execute_result"
    }
   ],
   "source": [
    "from sklearn.metrics import confusion_matrix\n",
    "\n",
    "confusion_matrix(y_test, y_pred)"
   ]
  },
  {
   "cell_type": "code",
   "execution_count": 170,
   "metadata": {
    "collapsed": false
   },
   "outputs": [
    {
     "name": "stdout",
     "output_type": "stream",
     "text": [
      "28\n",
      "0\n",
      "1\n",
      "35\n"
     ]
    }
   ],
   "source": [
    "tn, fp, fn, tp = confusion_matrix(y_test, y_pred).ravel()\n",
    "\n",
    "print(tn)\n",
    "print(fp)\n",
    "print(fn)\n",
    "print(tp)"
   ]
  },
  {
   "cell_type": "code",
   "execution_count": 171,
   "metadata": {
    "collapsed": false
   },
   "outputs": [
    {
     "name": "stdout",
     "output_type": "stream",
     "text": [
      "('Pecision :', 1.0)\n",
      "('Recall :', 0.9722222222222222)\n"
     ]
    }
   ],
   "source": [
    "print(\"Pecision :\", tp / ((tp + fp) *1.0))\n",
    "print(\"Recall :\", tp / ((tp + fn) *1.0))"
   ]
  },
  {
   "cell_type": "code",
   "execution_count": 172,
   "metadata": {
    "collapsed": false
   },
   "outputs": [
    {
     "name": "stdout",
     "output_type": "stream",
     "text": [
      "             precision    recall  f1-score   support\n",
      "\n",
      "          0       0.97      1.00      0.98        28\n",
      "          1       1.00      0.97      0.99        36\n",
      "\n",
      "avg / total       0.98      0.98      0.98        64\n",
      "\n"
     ]
    }
   ],
   "source": [
    "from sklearn.metrics import classification_report\n",
    "\n",
    "print(classification_report(y_test, y_pred))"
   ]
  },
  {
   "cell_type": "code",
   "execution_count": 173,
   "metadata": {
    "collapsed": false
   },
   "outputs": [],
   "source": [
    "from sklearn.metrics import roc_curve, auc\n",
    "\n",
    "false_positive_rate, true_positive_rate, thresholds = roc_curve(y_test, y_pred)"
   ]
  },
  {
   "cell_type": "code",
   "execution_count": 174,
   "metadata": {
    "collapsed": false
   },
   "outputs": [
    {
     "data": {
      "image/png": "[encoded data removed]",
      "text/plain": [
       "<matplotlib.figure.Figure at 0x119fa3cd0>"
      ]
     },
     "metadata": {},
     "output_type": "display_data"
    }
   ],
   "source": [
    "roc_auc = auc(false_positive_rate, true_positive_rate)\n",
    "\n",
    "fig = plt.figure(figsize=(8,6))\n",
    "plt.plot(false_positive_rate, true_positive_rate, 'b', label='AUC = %0.2f'% roc_auc)\n",
    "plt.plot([0,1],[0,1],'r--')\n",
    "\n",
    "plt.title('ROC Curve')\n",
    "plt.legend(loc='lower right')\n",
    "\n",
    "plt.xlim([-0.1,1.2])\n",
    "plt.ylim([-0.1,1.2])\n",
    "plt.ylabel('True Positive Rate')\n",
    "plt.xlabel('False Positive Rate')\n",
    "plt.grid(color='lightgrey', alpha=.5)\n",
    "plt.show()"
   ]
  },
  {
   "cell_type": "markdown",
   "metadata": {},
   "source": [
    "### Evaluation for a regression model"
   ]
  },
  {
   "cell_type": "code",
   "execution_count": 191,
   "metadata": {
    "collapsed": true
   },
   "outputs": [],
   "source": [
    "from sklearn.datasets import load_boston\n",
    "\n",
    "boston = load_boston()"
   ]
  },
  {
   "cell_type": "code",
   "execution_count": 192,
   "metadata": {
    "collapsed": false
   },
   "outputs": [
    {
     "data": {
      "text/html": [
       "<div>\n",
       "<style scoped>\n",
       "    .dataframe tbody tr th:only-of-type {\n",
       "        vertical-align: middle;\n",
       "    }\n",
       "\n",
       "    .dataframe tbody tr th {\n",
       "        vertical-align: top;\n",
       "    }\n",
       "\n",
       "    .dataframe thead th {\n",
       "        text-align: right;\n",
       "    }\n",
       "</style>\n",
       "<table border=\"1\" class=\"dataframe\">\n",
       "  <thead>\n",
       "    <tr style=\"text-align: right;\">\n",
       "      <th></th>\n",
       "      <th>CRIM</th>\n",
       "      <th>ZN</th>\n",
       "      <th>INDUS</th>\n",
       "      <th>CHAS</th>\n",
       "      <th>NOX</th>\n",
       "      <th>RM</th>\n",
       "      <th>AGE</th>\n",
       "      <th>DIS</th>\n",
       "      <th>RAD</th>\n",
       "      <th>TAX</th>\n",
       "      <th>PTRATIO</th>\n",
       "      <th>B</th>\n",
       "      <th>LSTAT</th>\n",
       "      <th>target</th>\n",
       "    </tr>\n",
       "  </thead>\n",
       "  <tbody>\n",
       "    <tr>\n",
       "      <th>0</th>\n",
       "      <td>0.00632</td>\n",
       "      <td>18.0</td>\n",
       "      <td>2.31</td>\n",
       "      <td>0.0</td>\n",
       "      <td>0.538</td>\n",
       "      <td>6.575</td>\n",
       "      <td>65.2</td>\n",
       "      <td>4.0900</td>\n",
       "      <td>1.0</td>\n",
       "      <td>296.0</td>\n",
       "      <td>15.3</td>\n",
       "      <td>396.90</td>\n",
       "      <td>4.98</td>\n",
       "      <td>24.0</td>\n",
       "    </tr>\n",
       "    <tr>\n",
       "      <th>1</th>\n",
       "      <td>0.02731</td>\n",
       "      <td>0.0</td>\n",
       "      <td>7.07</td>\n",
       "      <td>0.0</td>\n",
       "      <td>0.469</td>\n",
       "      <td>6.421</td>\n",
       "      <td>78.9</td>\n",
       "      <td>4.9671</td>\n",
       "      <td>2.0</td>\n",
       "      <td>242.0</td>\n",
       "      <td>17.8</td>\n",
       "      <td>396.90</td>\n",
       "      <td>9.14</td>\n",
       "      <td>21.6</td>\n",
       "    </tr>\n",
       "    <tr>\n",
       "      <th>2</th>\n",
       "      <td>0.02729</td>\n",
       "      <td>0.0</td>\n",
       "      <td>7.07</td>\n",
       "      <td>0.0</td>\n",
       "      <td>0.469</td>\n",
       "      <td>7.185</td>\n",
       "      <td>61.1</td>\n",
       "      <td>4.9671</td>\n",
       "      <td>2.0</td>\n",
       "      <td>242.0</td>\n",
       "      <td>17.8</td>\n",
       "      <td>392.83</td>\n",
       "      <td>4.03</td>\n",
       "      <td>34.7</td>\n",
       "    </tr>\n",
       "    <tr>\n",
       "      <th>3</th>\n",
       "      <td>0.03237</td>\n",
       "      <td>0.0</td>\n",
       "      <td>2.18</td>\n",
       "      <td>0.0</td>\n",
       "      <td>0.458</td>\n",
       "      <td>6.998</td>\n",
       "      <td>45.8</td>\n",
       "      <td>6.0622</td>\n",
       "      <td>3.0</td>\n",
       "      <td>222.0</td>\n",
       "      <td>18.7</td>\n",
       "      <td>394.63</td>\n",
       "      <td>2.94</td>\n",
       "      <td>33.4</td>\n",
       "    </tr>\n",
       "    <tr>\n",
       "      <th>4</th>\n",
       "      <td>0.06905</td>\n",
       "      <td>0.0</td>\n",
       "      <td>2.18</td>\n",
       "      <td>0.0</td>\n",
       "      <td>0.458</td>\n",
       "      <td>7.147</td>\n",
       "      <td>54.2</td>\n",
       "      <td>6.0622</td>\n",
       "      <td>3.0</td>\n",
       "      <td>222.0</td>\n",
       "      <td>18.7</td>\n",
       "      <td>396.90</td>\n",
       "      <td>5.33</td>\n",
       "      <td>36.2</td>\n",
       "    </tr>\n",
       "  </tbody>\n",
       "</table>\n",
       "</div>"
      ],
      "text/plain": [
       "      CRIM    ZN  INDUS  CHAS    NOX     RM   AGE     DIS  RAD    TAX  \\\n",
       "0  0.00632  18.0   2.31   0.0  0.538  6.575  65.2  4.0900  1.0  296.0   \n",
       "1  0.02731   0.0   7.07   0.0  0.469  6.421  78.9  4.9671  2.0  242.0   \n",
       "2  0.02729   0.0   7.07   0.0  0.469  7.185  61.1  4.9671  2.0  242.0   \n",
       "3  0.03237   0.0   2.18   0.0  0.458  6.998  45.8  6.0622  3.0  222.0   \n",
       "4  0.06905   0.0   2.18   0.0  0.458  7.147  54.2  6.0622  3.0  222.0   \n",
       "\n",
       "   PTRATIO       B  LSTAT  target  \n",
       "0     15.3  396.90   4.98    24.0  \n",
       "1     17.8  396.90   9.14    21.6  \n",
       "2     17.8  392.83   4.03    34.7  \n",
       "3     18.7  394.63   2.94    33.4  \n",
       "4     18.7  396.90   5.33    36.2  "
      ]
     },
     "execution_count": 192,
     "metadata": {},
     "output_type": "execute_result"
    }
   ],
   "source": [
    "bos_X = pd.DataFrame(boston.data, columns=boston.feature_names)\n",
    "bos_y = pd.DataFrame(boston.target, columns=[\"target\"])\n",
    "\n",
    "boston = pd.concat([bos_X, bos_y], axis=1)\n",
    "boston.head()"
   ]
  },
  {
   "cell_type": "code",
   "execution_count": 231,
   "metadata": {
    "collapsed": true
   },
   "outputs": [],
   "source": [
    "X = boston.drop(\"target\", axis=1)\n",
    "y = boston.target"
   ]
  },
  {
   "cell_type": "code",
   "execution_count": 232,
   "metadata": {
    "collapsed": false
   },
   "outputs": [
    {
     "name": "stdout",
     "output_type": "stream",
     "text": [
      "(506, 13)\n",
      "(506,)\n"
     ]
    }
   ],
   "source": [
    "print(X.shape)\n",
    "print(y.shape)"
   ]
  },
  {
   "cell_type": "code",
   "execution_count": 233,
   "metadata": {
    "collapsed": true
   },
   "outputs": [],
   "source": [
    "X_train, X_test, y_train, y_test = train_test_split(X, y, random_state=0)"
   ]
  },
  {
   "cell_type": "code",
   "execution_count": 234,
   "metadata": {
    "collapsed": false
   },
   "outputs": [],
   "source": [
    "scaler = MinMaxScaler(feature_range=(0,1))"
   ]
  },
  {
   "cell_type": "code",
   "execution_count": 235,
   "metadata": {
    "collapsed": false
   },
   "outputs": [],
   "source": [
    "X_train_scaled = scaler.fit_transform(X_train)\n",
    "X_test_scaled = scaler.fit_transform(X_test)"
   ]
  },
  {
   "cell_type": "code",
   "execution_count": 236,
   "metadata": {
    "collapsed": true
   },
   "outputs": [],
   "source": [
    "from sklearn.linear_model import LinearRegression\n",
    "\n",
    "lr = LinearRegression()"
   ]
  },
  {
   "cell_type": "code",
   "execution_count": 237,
   "metadata": {
    "collapsed": false
   },
   "outputs": [
    {
     "data": {
      "text/plain": [
       "LinearRegression(copy_X=True, fit_intercept=True, n_jobs=1, normalize=False)"
      ]
     },
     "execution_count": 237,
     "metadata": {},
     "output_type": "execute_result"
    }
   ],
   "source": [
    "lr.fit(X_train_scaled, y_train)"
   ]
  },
  {
   "cell_type": "code",
   "execution_count": 238,
   "metadata": {
    "collapsed": true
   },
   "outputs": [],
   "source": [
    "y_pred = lr.predict(X_test_scaled)"
   ]
  },
  {
   "cell_type": "code",
   "execution_count": 239,
   "metadata": {
    "collapsed": false
   },
   "outputs": [
    {
     "data": {
      "text/plain": [
       "array([22.6, 50. , 23. ,  8.3, 21.2, 19.9, 20.6, 18.7, 16.1, 18.6,  8.8,\n",
       "       17.2, 14.9, 10.5, 50. , 29. , 23. , 33.3, 29.4, 21. ])"
      ]
     },
     "execution_count": 239,
     "metadata": {},
     "output_type": "execute_result"
    }
   ],
   "source": [
    "np.array(y_test)[:20]"
   ]
  },
  {
   "cell_type": "code",
   "execution_count": 240,
   "metadata": {
    "collapsed": false
   },
   "outputs": [
    {
     "data": {
      "text/plain": [
       "array([23.23119633, 21.85694997, 28.07435418,  9.58296078, 19.53998037,\n",
       "       17.48124141, 18.32644755, 19.69524433, 17.41375586, 18.38266232,\n",
       "        1.48463937, 14.34206539, 15.14176571,  2.91165513, 39.24311214,\n",
       "       30.87203004, 20.24714745, 35.52358536, 29.93345507, 21.6828646 ])"
      ]
     },
     "execution_count": 240,
     "metadata": {},
     "output_type": "execute_result"
    }
   ],
   "source": [
    "y_pred[:20]"
   ]
  },
  {
   "cell_type": "code",
   "execution_count": 241,
   "metadata": {
    "collapsed": false
   },
   "outputs": [
    {
     "name": "stdout",
     "output_type": "stream",
     "text": [
      "3.8901613990301374\n",
      "34.97402464357554\n",
      "5.91388405733284\n"
     ]
    }
   ],
   "source": [
    "from sklearn.metrics import *\n",
    "\n",
    "print(mean_absolute_error(y_test, y_pred))\n",
    "print(mean_squared_error(y_test, y_pred))\n",
    "print(np.sqrt(mean_squared_error(y_test, y_pred)))"
   ]
  },
  {
   "cell_type": "code",
   "execution_count": null,
   "metadata": {
    "collapsed": true
   },
   "outputs": [],
   "source": []
  }
 ],
 "metadata": {
  "kernelspec": {
   "display_name": "Python 2",
   "language": "python",
   "name": "python2"
  },
  "language_info": {
   "codemirror_mode": {
    "name": "ipython",
    "version": 2
   },
   "file_extension": ".py",
   "mimetype": "text/x-python",
   "name": "python",
   "nbconvert_exporter": "python",
   "pygments_lexer": "ipython2",
   "version": "2.7.13"
  }
 },
 "nbformat": 4,
 "nbformat_minor": 2
}
