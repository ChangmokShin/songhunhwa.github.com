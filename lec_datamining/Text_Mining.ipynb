{
 "cells": [
  {
   "cell_type": "markdown",
   "metadata": {},
   "source": [
    "# 텍스트 마이닝 (Text Mining Introduction)\n",
    "## 주요 용어\n",
    "- 말뭉치(Corpus): A set of documents\n",
    "- 토큰(Token): Meaningful elements in a text such as words or phrases or symbols\n",
    " - 자연어 분석을 위해 긴 문자열을 작은 단위로 나눔 -> 이 단위를 토큰\n",
    " - tokenizer로 작은 단위로 나누는 것이 가능\n",
    "- 형태소(Morphemes) 분석: Smallest meaningful unit in a language\n",
    " - 보통 NLP에서 토큰으로 형태소하며, 어근, 접두사, 접미사, 품사 등 다양한 언어적 속성을 파악하는 작업\n",
    " - 어간 추출(stemming)\n",
    " - 원형 복원(lemmatizing)\n",
    " - 품사 부착(Part-Of-Speech tagging)\n",
    "   - NN 명사(단수형 혹은 집합형)\n",
    "   - PRP 인칭대명사\n",
    "   - VBP 동사 현재형\n",
    "   - ...\n",
    "- 예측/분류 모델\n",
    " - 감성분석\n",
    " - 이탈예측\n",
    "- Toipic Modeling\n",
    "- Word2Vec\n",
    "\n",
    "## 참고 블로그\n",
    "- https://ratsgo.github.io/natural%20language%20processing/2017/03/22/lexicon/\n",
    "- https://datascienceschool.net/view-notebook/3e7aadbf88ed4f0d87a76f9ddc925d69/\n",
    "- https://datascienceschool.net/view-notebook/70ce46db4ced4a999c6ec349df0f4eb0/\n",
    "\n",
    "\n",
    "## 전처리 with Scikit-learn\n",
    "- BOW (Bag of Words)\n",
    " - Tokenize: 단어(토큰)으로 분리\n",
    " - 어휘 사전 구축: 모든 단어를 모으고 번호 부여(알파벳 순서)\n",
    " - 인코딩: 단어별 카운트\n",
    "\n",
    "- CountVectorizer\n",
    " - stop_words: 'english'\n",
    " - analyzer: 'word', 'character' ..\n",
    " - tokenizer: `any function`\n",
    " - ngram_range\n",
    " - min_df\n",
    " - max_df\n",
    "\n",
    "- TfidfVectorizer\n",
    " - wikipedia: https://ko.wikipedia.org/wiki/Tf-idf)\n",
    " - TF-IDF(Term Frequency – Inverse Document Frequency) \n",
    " - 특정 단어의 빈도수와 특정 단어가 포함된 문서수의 반비례수를 곱하여 표현\n",
    " - 단어가 여러 문서에 포함되면 가중치를 적게 반영\n",
    "- DictVectorizer\n",
    "- HashingVectorizer\n",
    "\n",
    "## KoNLPy\n",
    "- 한국어 텍스트 처리를 위한 파이썬 패키지\n",
    " - 한국어 말뭉치\n",
    " - 형태소 분석, 품사 태킹 등\n",
    "\n",
    "- Tags\n",
    " - Kkma: 서울대 IDS\n",
    " - Hannanum: KAIST\n",
    " - Twitter: Twitter Korea\n",
    " - Mecab (only available for mac)\n",
    " - Komoran\n",
    "- Reference\n",
    " - http://KoNLPy.org/ko/latest/\n",
    " - https://github.com/KoNLPy/KoNLPy\n",
    " \n",
    "## NLTK\n",
    "- https://www.nltk.org/\n",
    "\n",
    "## 모델링\n",
    "- 예측 모델\n",
    " - 스팸 처리\n",
    " - 감성 분석\n",
    "- Topic Modeling (LDA)\n",
    " - 토픽 추출\n",
    "- WORD2VEC\n",
    " - 신규 의미 단어 생성\n",
    "\n",
    "## GridSearch, CV, Evaluation\n",
    "- GridSearch for the best parameters\n",
    "- CV (K-fold, LOOCV, ShuffleSplit)\n",
    "- Evaluation (Confusion Matrix, ROC Curve, AUC)"
   ]
  },
  {
   "cell_type": "code",
   "execution_count": 1,
   "metadata": {},
   "outputs": [],
   "source": [
    "# example\n",
    "bards_words = [\"The fool doth think he is wise,\", \n",
    "              \"but the wise man knows himself to be a fool\"]"
   ]
  },
  {
   "cell_type": "code",
   "execution_count": 2,
   "metadata": {},
   "outputs": [
    {
     "data": {
      "text/plain": [
       "CountVectorizer(analyzer=u'word', binary=False, decode_error=u'strict',\n",
       "        dtype=<type 'numpy.int64'>, encoding=u'utf-8', input=u'content',\n",
       "        lowercase=True, max_df=1.0, max_features=None, min_df=1,\n",
       "        ngram_range=(1, 1), preprocessor=None, stop_words=None,\n",
       "        strip_accents=None, token_pattern=u'(?u)\\\\b\\\\w\\\\w+\\\\b',\n",
       "        tokenizer=None, vocabulary=None)"
      ]
     },
     "execution_count": 2,
     "metadata": {},
     "output_type": "execute_result"
    }
   ],
   "source": [
    "from sklearn.feature_extraction.text import CountVectorizer\n",
    "\n",
    "vect = CountVectorizer()\n",
    "\n",
    "vect.fit(bards_words)"
   ]
  },
  {
   "cell_type": "code",
   "execution_count": 3,
   "metadata": {},
   "outputs": [
    {
     "name": "stdout",
     "output_type": "stream",
     "text": [
      "13\n"
     ]
    }
   ],
   "source": [
    "# 어휘 사전의 크기\n",
    "print(len(vect.vocabulary_))"
   ]
  },
  {
   "cell_type": "code",
   "execution_count": 4,
   "metadata": {},
   "outputs": [
    {
     "name": "stdout",
     "output_type": "stream",
     "text": [
      "{u'fool': 3, u'be': 0, u'he': 4, u'himself': 5, u'wise': 12, u'knows': 7, u'is': 6, u'but': 1, u'to': 11, u'the': 9, u'doth': 2, u'think': 10, u'man': 8}\n"
     ]
    }
   ],
   "source": [
    "# 어휘 사전 내용\n",
    "print(vect.vocabulary_)"
   ]
  },
  {
   "cell_type": "code",
   "execution_count": 5,
   "metadata": {},
   "outputs": [],
   "source": [
    "bag_of_word = vect.transform(bards_words)"
   ]
  },
  {
   "cell_type": "code",
   "execution_count": 6,
   "metadata": {},
   "outputs": [
    {
     "name": "stdout",
     "output_type": "stream",
     "text": [
      "<2x13 sparse matrix of type '<type 'numpy.int64'>'\n",
      "\twith 16 stored elements in Compressed Sparse Row format>\n"
     ]
    }
   ],
   "source": [
    "print(repr(bag_of_word))"
   ]
  },
  {
   "cell_type": "code",
   "execution_count": 7,
   "metadata": {},
   "outputs": [
    {
     "name": "stdout",
     "output_type": "stream",
     "text": [
      "[[0 0 1 1 1 0 1 0 0 1 1 0 1]\n",
      " [1 1 0 1 0 1 0 1 1 1 0 1 1]]\n"
     ]
    }
   ],
   "source": [
    "print(bag_of_word.toarray())"
   ]
  },
  {
   "cell_type": "code",
   "execution_count": 8,
   "metadata": {},
   "outputs": [
    {
     "data": {
      "text/plain": [
       "array([1, 1, 1, 2, 1, 1, 1, 1, 1, 2, 1, 1, 2])"
      ]
     },
     "execution_count": 8,
     "metadata": {},
     "output_type": "execute_result"
    }
   ],
   "source": [
    "count = bag_of_word.toarray().sum(axis=0)\n",
    "count"
   ]
  },
  {
   "cell_type": "code",
   "execution_count": 9,
   "metadata": {},
   "outputs": [
    {
     "data": {
      "text/plain": [
       "[u'be',\n",
       " u'but',\n",
       " u'doth',\n",
       " u'fool',\n",
       " u'he',\n",
       " u'himself',\n",
       " u'is',\n",
       " u'knows',\n",
       " u'man',\n",
       " u'the',\n",
       " u'think',\n",
       " u'to',\n",
       " u'wise']"
      ]
     },
     "execution_count": 9,
     "metadata": {},
     "output_type": "execute_result"
    }
   ],
   "source": [
    "feature_name = vect.get_feature_names()\n",
    "feature_name"
   ]
  },
  {
   "cell_type": "code",
   "execution_count": 10,
   "metadata": {},
   "outputs": [
    {
     "data": {
      "text/plain": [
       "[(u'be', 1),\n",
       " (u'but', 1),\n",
       " (u'doth', 1),\n",
       " (u'fool', 2),\n",
       " (u'he', 1),\n",
       " (u'himself', 1),\n",
       " (u'is', 1),\n",
       " (u'knows', 1),\n",
       " (u'man', 1),\n",
       " (u'the', 2),\n",
       " (u'think', 1),\n",
       " (u'to', 1),\n",
       " (u'wise', 2)]"
      ]
     },
     "execution_count": 10,
     "metadata": {},
     "output_type": "execute_result"
    }
   ],
   "source": [
    "list(zip(feature_name, count))"
   ]
  },
  {
   "cell_type": "markdown",
   "metadata": {},
   "source": [
    "## 영화 리뷰 텍스트 마이닝"
   ]
  },
  {
   "cell_type": "code",
   "execution_count": 11,
   "metadata": {},
   "outputs": [],
   "source": [
    "import pandas as pd\n",
    "import numpy as np\n",
    "import matplotlib.pyplot as plt\n",
    "%matplotlib inline"
   ]
  },
  {
   "cell_type": "code",
   "execution_count": 12,
   "metadata": {},
   "outputs": [
    {
     "data": {
      "text/html": [
       "<div>\n",
       "<style scoped>\n",
       "    .dataframe tbody tr th:only-of-type {\n",
       "        vertical-align: middle;\n",
       "    }\n",
       "\n",
       "    .dataframe tbody tr th {\n",
       "        vertical-align: top;\n",
       "    }\n",
       "\n",
       "    .dataframe thead th {\n",
       "        text-align: right;\n",
       "    }\n",
       "</style>\n",
       "<table border=\"1\" class=\"dataframe\">\n",
       "  <thead>\n",
       "    <tr style=\"text-align: right;\">\n",
       "      <th></th>\n",
       "      <th>id</th>\n",
       "      <th>document</th>\n",
       "      <th>label</th>\n",
       "    </tr>\n",
       "  </thead>\n",
       "  <tbody>\n",
       "    <tr>\n",
       "      <th>0</th>\n",
       "      <td>9976970</td>\n",
       "      <td>아 더빙.. 진짜 짜증나네요 목소리</td>\n",
       "      <td>0</td>\n",
       "    </tr>\n",
       "    <tr>\n",
       "      <th>1</th>\n",
       "      <td>3819312</td>\n",
       "      <td>흠...포스터보고 초딩영화줄....오버연기조차 가볍지 않구나</td>\n",
       "      <td>1</td>\n",
       "    </tr>\n",
       "    <tr>\n",
       "      <th>2</th>\n",
       "      <td>10265843</td>\n",
       "      <td>너무재밓었다그래서보는것을추천한다</td>\n",
       "      <td>0</td>\n",
       "    </tr>\n",
       "    <tr>\n",
       "      <th>3</th>\n",
       "      <td>9045019</td>\n",
       "      <td>교도소 이야기구먼 ..솔직히 재미는 없다..평점 조정</td>\n",
       "      <td>0</td>\n",
       "    </tr>\n",
       "    <tr>\n",
       "      <th>4</th>\n",
       "      <td>6483659</td>\n",
       "      <td>사이몬페그의 익살스런 연기가 돋보였던 영화!스파이더맨에서 늙어보이기만 했던 커스틴 ...</td>\n",
       "      <td>1</td>\n",
       "    </tr>\n",
       "  </tbody>\n",
       "</table>\n",
       "</div>"
      ],
      "text/plain": [
       "         id                                           document  label\n",
       "0   9976970                                아 더빙.. 진짜 짜증나네요 목소리      0\n",
       "1   3819312                  흠...포스터보고 초딩영화줄....오버연기조차 가볍지 않구나      1\n",
       "2  10265843                                  너무재밓었다그래서보는것을추천한다      0\n",
       "3   9045019                      교도소 이야기구먼 ..솔직히 재미는 없다..평점 조정      0\n",
       "4   6483659  사이몬페그의 익살스런 연기가 돋보였던 영화!스파이더맨에서 늙어보이기만 했던 커스틴 ...      1"
      ]
     },
     "execution_count": 12,
     "metadata": {},
     "output_type": "execute_result"
    }
   ],
   "source": [
    "df_train = pd.read_csv(\"ratings_train.txt\", delimiter='\\t', keep_default_na = False)\n",
    "\n",
    "df_train.head()"
   ]
  },
  {
   "cell_type": "code",
   "execution_count": 13,
   "metadata": {},
   "outputs": [],
   "source": [
    "df_train_sam = df_train.sample(frac=0.1, replace=True)"
   ]
  },
  {
   "cell_type": "code",
   "execution_count": 14,
   "metadata": {},
   "outputs": [],
   "source": [
    "text_train = df_train_sam['document'].values\n",
    "y_train = df_train_sam['label'].values"
   ]
  },
  {
   "cell_type": "code",
   "execution_count": 15,
   "metadata": {},
   "outputs": [
    {
     "data": {
      "text/html": [
       "<div>\n",
       "<style scoped>\n",
       "    .dataframe tbody tr th:only-of-type {\n",
       "        vertical-align: middle;\n",
       "    }\n",
       "\n",
       "    .dataframe tbody tr th {\n",
       "        vertical-align: top;\n",
       "    }\n",
       "\n",
       "    .dataframe thead th {\n",
       "        text-align: right;\n",
       "    }\n",
       "</style>\n",
       "<table border=\"1\" class=\"dataframe\">\n",
       "  <thead>\n",
       "    <tr style=\"text-align: right;\">\n",
       "      <th></th>\n",
       "      <th>id</th>\n",
       "      <th>document</th>\n",
       "      <th>label</th>\n",
       "    </tr>\n",
       "  </thead>\n",
       "  <tbody>\n",
       "    <tr>\n",
       "      <th>0</th>\n",
       "      <td>6270596</td>\n",
       "      <td>굳 ㅋ</td>\n",
       "      <td>1</td>\n",
       "    </tr>\n",
       "    <tr>\n",
       "      <th>1</th>\n",
       "      <td>9274899</td>\n",
       "      <td>GDNTOPCLASSINTHECLUB</td>\n",
       "      <td>0</td>\n",
       "    </tr>\n",
       "    <tr>\n",
       "      <th>2</th>\n",
       "      <td>8544678</td>\n",
       "      <td>뭐야 이 평점들은.... 나쁘진 않지만 10점 짜리는 더더욱 아니잖아</td>\n",
       "      <td>0</td>\n",
       "    </tr>\n",
       "    <tr>\n",
       "      <th>3</th>\n",
       "      <td>6825595</td>\n",
       "      <td>지루하지는 않은데 완전 막장임... 돈주고 보기에는....</td>\n",
       "      <td>0</td>\n",
       "    </tr>\n",
       "    <tr>\n",
       "      <th>4</th>\n",
       "      <td>6723715</td>\n",
       "      <td>3D만 아니었어도 별 다섯 개 줬을텐데.. 왜 3D로 나와서 제 심기를 불편하게 하죠??</td>\n",
       "      <td>0</td>\n",
       "    </tr>\n",
       "  </tbody>\n",
       "</table>\n",
       "</div>"
      ],
      "text/plain": [
       "        id                                           document  label\n",
       "0  6270596                                                굳 ㅋ      1\n",
       "1  9274899                               GDNTOPCLASSINTHECLUB      0\n",
       "2  8544678             뭐야 이 평점들은.... 나쁘진 않지만 10점 짜리는 더더욱 아니잖아      0\n",
       "3  6825595                   지루하지는 않은데 완전 막장임... 돈주고 보기에는....      0\n",
       "4  6723715  3D만 아니었어도 별 다섯 개 줬을텐데.. 왜 3D로 나와서 제 심기를 불편하게 하죠??      0"
      ]
     },
     "execution_count": 15,
     "metadata": {},
     "output_type": "execute_result"
    }
   ],
   "source": [
    "df_test = pd.read_csv(\"ratings_test.txt\", delimiter='\\t', keep_default_na = False).head(200)\n",
    "\n",
    "df_test.head()"
   ]
  },
  {
   "cell_type": "code",
   "execution_count": 16,
   "metadata": {},
   "outputs": [],
   "source": [
    "text_test = df_test['document'].values\n",
    "y_test = df_test['label'].values"
   ]
  },
  {
   "cell_type": "code",
   "execution_count": 17,
   "metadata": {},
   "outputs": [
    {
     "name": "stdout",
     "output_type": "stream",
     "text": [
      "(15000,)\n",
      "[7426 7574]\n",
      "(200,)\n",
      "[ 94 106]\n"
     ]
    }
   ],
   "source": [
    "print(text_train.shape)\n",
    "print(np.bincount(y_train))\n",
    "print(text_test.shape)\n",
    "print(np.bincount(y_test))"
   ]
  },
  {
   "cell_type": "code",
   "execution_count": 20,
   "metadata": {},
   "outputs": [],
   "source": [
    "from konlpy.tag import Twitter, Hannanum, Kkma\n",
    "from konlpy.utils import pprint\n",
    "\n",
    "twitter_tag = Twitter()\n",
    "\n",
    "#hannanum = Hannanum()\n",
    "#kkma = Kkma()"
   ]
  },
  {
   "cell_type": "code",
   "execution_count": 21,
   "metadata": {},
   "outputs": [],
   "source": [
    "def twitter_tokenizer(text):\n",
    "    return twitter_tag.nouns(text) # if 형태소 = morphs, 품사 = pos"
   ]
  },
  {
   "cell_type": "code",
   "execution_count": 22,
   "metadata": {},
   "outputs": [],
   "source": [
    "from sklearn.feature_extraction.text import CountVectorizer\n",
    "\n",
    "vect = CountVectorizer(tokenizer=twitter_tokenizer, min_df=100, stop_words=['것', '듯']).fit(text_train)"
   ]
  },
  {
   "cell_type": "code",
   "execution_count": 23,
   "metadata": {
    "scrolled": true
   },
   "outputs": [
    {
     "name": "stdout",
     "output_type": "stream",
     "text": [
      "{가슴: 0,\n",
      " 가장: 1,\n",
      " 감독: 2,\n",
      " 감동: 3,\n",
      " 개: 4,\n",
      " 거: 5,\n",
      " 걸: 6,\n",
      " 것: 7,\n",
      " 게: 8,\n",
      " 결말: 9,\n",
      " 공감: 10,\n",
      " 굿: 11,\n",
      " 그: 12,\n",
      " 그냥: 13,\n",
      " 기대: 14,\n",
      " 기억: 15,\n",
      " 꼭: 16,\n",
      " 끝: 17,\n",
      " 나: 18,\n",
      " 난: 19,\n",
      " 남자: 20,\n",
      " 내: 21,\n",
      " 내내: 22,\n",
      " 내용: 23,\n",
      " 너무: 24,\n",
      " 년: 25,\n",
      " 눈: 26,\n",
      " 눈물: 27,\n",
      " 느낌: 28,\n",
      " 다른: 29,\n",
      " 다시: 30,\n",
      " 대박: 31,\n",
      " 더: 32,\n",
      " 도: 33,\n",
      " 돈: 34,\n",
      " 드라마: 35,\n",
      " 듯: 36,\n",
      " 때: 37,\n",
      " 때문: 38,\n",
      " 또: 39,\n",
      " 마음: 40,\n",
      " 마지막: 41,\n",
      " 말: 42,\n",
      " 매력: 43,\n",
      " 명작: 44,\n",
      " 모두: 45,\n",
      " 모든: 46,\n",
      " 못: 47,\n",
      " 무슨: 48,\n",
      " 뭐: 49,\n",
      " 뭔가: 50,\n",
      " 반전: 51,\n",
      " 배우: 52,\n",
      " 번: 53,\n",
      " 별: 54,\n",
      " 별로: 55,\n",
      " 보고: 56,\n",
      " 보기: 57,\n",
      " 보지: 58,\n",
      " 볼: 59,\n",
      " 봐: 60,\n",
      " 분: 61,\n",
      " 사람: 62,\n",
      " 사랑: 63,\n",
      " 생각: 64,\n",
      " 소재: 65,\n",
      " 속: 66,\n",
      " 수: 67,\n",
      " 수준: 68,\n",
      " 스토리: 69,\n",
      " 시간: 70,\n",
      " 실망: 71,\n",
      " 쓰레기: 72,\n",
      " 아이: 73,\n",
      " 아직: 74,\n",
      " 안: 75,\n",
      " 알: 76,\n",
      " 애: 77,\n",
      " 액션: 78,\n",
      " 여자: 79,\n",
      " 역시: 80,\n",
      " 연기: 81,\n",
      " 연출: 82,\n",
      " 영상: 83,\n",
      " 영화: 84,\n",
      " 와: 85,\n",
      " 완전: 86,\n",
      " 왜: 87,\n",
      " 요: 88,\n",
      " 요즘: 89,\n",
      " 우리: 90,\n",
      " 원작: 91,\n",
      " 유치: 92,\n",
      " 음악: 93,\n",
      " 이: 94,\n",
      " 이건: 95,\n",
      " 이야기: 96,\n",
      " 이영화: 97,\n",
      " 이해: 98,\n",
      " 인간: 99,\n",
      " 인생: 100,\n",
      " 일본: 101,\n",
      " 임: 102,\n",
      " 작품: 103,\n",
      " 장면: 104,\n",
      " 재미: 105,\n",
      " 저: 106,\n",
      " 전: 107,\n",
      " 전개: 108,\n",
      " 전혀: 109,\n",
      " 점: 110,\n",
      " 정도: 111,\n",
      " 정말: 112,\n",
      " 좀: 113,\n",
      " 주인공: 114,\n",
      " 준: 115,\n",
      " 줄: 116,\n",
      " 중: 117,\n",
      " 지금: 118,\n",
      " 진짜: 119,\n",
      " 짜증: 120,\n",
      " 짱: 121,\n",
      " 처음: 122,\n",
      " 최고: 123,\n",
      " 최악: 124,\n",
      " 코미디: 125,\n",
      " 편: 126,\n",
      " 평점: 127,\n",
      " 하나: 128,\n",
      " 한국: 129,\n",
      " 한번: 130,\n",
      " 함: 131,\n",
      " 현실: 132}\n"
     ]
    }
   ],
   "source": [
    "pprint(vect.vocabulary_)"
   ]
  },
  {
   "cell_type": "code",
   "execution_count": 24,
   "metadata": {},
   "outputs": [
    {
     "name": "stdout",
     "output_type": "stream",
     "text": [
      "133\n"
     ]
    }
   ],
   "source": [
    "print(len(vect.vocabulary_))"
   ]
  },
  {
   "cell_type": "code",
   "execution_count": 25,
   "metadata": {},
   "outputs": [],
   "source": [
    "bag_of_word = vect.transform(text_train)"
   ]
  },
  {
   "cell_type": "code",
   "execution_count": 26,
   "metadata": {},
   "outputs": [
    {
     "name": "stdout",
     "output_type": "stream",
     "text": [
      "[ 130  126  398  452  204  414  247  536  119  171  107  107  359  417\n",
      "  125  130  178  184  316  197  164  446  114  361 1127  203  119  154\n",
      "  199  128  285  113  438  124  209  505  197  419  196  172  173  304\n",
      "  358  132  230  114  118  171  160  360  106  153  412  118  133  210\n",
      "  498  142  107  272  401  172  446  209  276  143  128  320  127  501\n",
      "  362  106  355  122  103  209  149  162  245  194  192  649  179  106\n",
      " 5187  158  274  505  122  103  135  139  149  122  915  275  200  201\n",
      "  114  126  153  146  205  301  241  381  142  137  120  113  770  272\n",
      "  974  348  235  104  106  168  221  815  168  120  236  616  237  133\n",
      "  143  619  287  141  109  204  135]\n"
     ]
    }
   ],
   "source": [
    "print(bag_of_word.toarray().sum(axis=0))"
   ]
  },
  {
   "cell_type": "code",
   "execution_count": 27,
   "metadata": {},
   "outputs": [],
   "source": [
    "count = bag_of_word.toarray().sum(axis=0)"
   ]
  },
  {
   "cell_type": "code",
   "execution_count": 28,
   "metadata": {},
   "outputs": [],
   "source": [
    "feature_name = vect.get_feature_names()"
   ]
  },
  {
   "cell_type": "code",
   "execution_count": 29,
   "metadata": {},
   "outputs": [
    {
     "name": "stdout",
     "output_type": "stream",
     "text": [
      "133\n"
     ]
    }
   ],
   "source": [
    "print(len(feature_name))"
   ]
  },
  {
   "cell_type": "code",
   "execution_count": 30,
   "metadata": {},
   "outputs": [
    {
     "name": "stdout",
     "output_type": "stream",
     "text": [
      "[(가슴, 130),\n",
      " (가장, 126),\n",
      " (감독, 398),\n",
      " (감동, 452),\n",
      " (개, 204),\n",
      " (거, 414),\n",
      " (걸, 247),\n",
      " (것, 536),\n",
      " (게, 119),\n",
      " (결말, 171),\n",
      " (공감, 107),\n",
      " (굿, 107),\n",
      " (그, 359),\n",
      " (그냥, 417),\n",
      " (기대, 125),\n",
      " (기억, 130),\n",
      " (꼭, 178),\n",
      " (끝, 184),\n",
      " (나, 316),\n",
      " (난, 197),\n",
      " (남자, 164),\n",
      " (내, 446),\n",
      " (내내, 114),\n",
      " (내용, 361),\n",
      " (너무, 1127),\n",
      " (년, 203),\n",
      " (눈, 119),\n",
      " (눈물, 154),\n",
      " (느낌, 199),\n",
      " (다른, 128),\n",
      " (다시, 285),\n",
      " (대박, 113),\n",
      " (더, 438),\n",
      " (도, 124),\n",
      " (돈, 209),\n",
      " (드라마, 505),\n",
      " (듯, 197),\n",
      " (때, 419),\n",
      " (때문, 196),\n",
      " (또, 172),\n",
      " (마음, 173),\n",
      " (마지막, 304),\n",
      " (말, 358),\n",
      " (매력, 132),\n",
      " (명작, 230),\n",
      " (모두, 114),\n",
      " (모든, 118),\n",
      " (못, 171),\n",
      " (무슨, 160),\n",
      " (뭐, 360),\n",
      " (뭔가, 106),\n",
      " (반전, 153),\n",
      " (배우, 412),\n",
      " (번, 118),\n",
      " (별, 133),\n",
      " (별로, 210),\n",
      " (보고, 498),\n",
      " (보기, 142),\n",
      " (보지, 107),\n",
      " (볼, 272),\n",
      " (봐, 401),\n",
      " (분, 172),\n",
      " (사람, 446),\n",
      " (사랑, 209),\n",
      " (생각, 276),\n",
      " (소재, 143),\n",
      " (속, 128),\n",
      " (수, 320),\n",
      " (수준, 127),\n",
      " (스토리, 501),\n",
      " (시간, 362),\n",
      " (실망, 106),\n",
      " (쓰레기, 355),\n",
      " (아이, 122),\n",
      " (아직, 103),\n",
      " (안, 209),\n",
      " (알, 149),\n",
      " (애, 162),\n",
      " (액션, 245),\n",
      " (여자, 194),\n",
      " (역시, 192),\n",
      " (연기, 649),\n",
      " (연출, 179),\n",
      " (영상, 106),\n",
      " (영화, 5187),\n",
      " (와, 158),\n",
      " (완전, 274),\n",
      " (왜, 505),\n",
      " (요, 122),\n",
      " (요즘, 103),\n",
      " (우리, 135),\n",
      " (원작, 139),\n",
      " (유치, 149),\n",
      " (음악, 122),\n",
      " (이, 915),\n",
      " (이건, 275),\n",
      " (이야기, 200),\n",
      " (이영화, 201),\n",
      " (이해, 114),\n",
      " (인간, 126),\n",
      " (인생, 153),\n",
      " (일본, 146),\n",
      " (임, 205),\n",
      " (작품, 301),\n",
      " (장면, 241),\n",
      " (재미, 381),\n",
      " (저, 142),\n",
      " (전, 137),\n",
      " (전개, 120),\n",
      " (전혀, 113),\n",
      " (점, 770),\n",
      " (정도, 272),\n",
      " (정말, 974),\n",
      " (좀, 348),\n",
      " (주인공, 235),\n",
      " (준, 104),\n",
      " (줄, 106),\n",
      " (중, 168),\n",
      " (지금, 221),\n",
      " (진짜, 815),\n",
      " (짜증, 168),\n",
      " (짱, 120),\n",
      " (처음, 236),\n",
      " (최고, 616),\n",
      " (최악, 237),\n",
      " (코미디, 133),\n",
      " (편, 143),\n",
      " (평점, 619),\n",
      " (하나, 287),\n",
      " (한국, 141),\n",
      " (한번, 109),\n",
      " (함, 204),\n",
      " (현실, 135)]\n"
     ]
    }
   ],
   "source": [
    "pprint(list(zip(feature_name, count)))"
   ]
  },
  {
   "cell_type": "code",
   "execution_count": 31,
   "metadata": {},
   "outputs": [],
   "source": [
    "word_count = list(zip(feature_name, count))"
   ]
  },
  {
   "cell_type": "code",
   "execution_count": 32,
   "metadata": {},
   "outputs": [],
   "source": [
    "word_count.sort(key=lambda x: x[1], reverse=True)"
   ]
  },
  {
   "cell_type": "code",
   "execution_count": 58,
   "metadata": {},
   "outputs": [
    {
     "data": {
      "image/png": "[encoded data removed]",
      "text/plain": [
       "<Figure size 1440x720 with 1 Axes>"
      ]
     },
     "metadata": {},
     "output_type": "display_data"
    }
   ],
   "source": [
    "import matplotlib.font_manager\n",
    "plt.rcParams[\"font.family\"] = 'NanumGothic'\n",
    "plt.rcParams['font.size'] = 14.\n",
    "\n",
    "fig, ax = plt.subplots(figsize=(20, 10))\n",
    "\n",
    "words = zip(*word_count[:20])[0]\n",
    "counts = zip(*word_count[:20])[1]\n",
    "x_pos = np.arange(len(words))\n",
    "\n",
    "plt.bar(x_pos, counts)\n",
    "plt.xticks(x_pos, words)\n",
    "plt.show()"
   ]
  },
  {
   "cell_type": "code",
   "execution_count": 59,
   "metadata": {},
   "outputs": [],
   "source": [
    "from sklearn.feature_extraction.text import TfidfVectorizer\n",
    "\n",
    "tf_idf_vect = TfidfVectorizer(tokenizer=twitter_tokenizer, min_df=100, stop_words=['것', '듯']).fit(text_train)"
   ]
  },
  {
   "cell_type": "code",
   "execution_count": 60,
   "metadata": {},
   "outputs": [
    {
     "name": "stdout",
     "output_type": "stream",
     "text": [
      "133\n"
     ]
    }
   ],
   "source": [
    "print(len(vect.vocabulary_))"
   ]
  },
  {
   "cell_type": "code",
   "execution_count": 61,
   "metadata": {},
   "outputs": [],
   "source": [
    "bag_of_word_tf_idf = tf_idf_vect.transform(text_train)"
   ]
  },
  {
   "cell_type": "code",
   "execution_count": 62,
   "metadata": {},
   "outputs": [
    {
     "name": "stdout",
     "output_type": "stream",
     "text": [
      "[  86.16699302   79.00120299  212.50129007  248.12506028  112.05597513\n",
      "  218.27913711  134.16548558  241.68458612   68.35597442   95.95236798\n",
      "   60.96972496   83.73302305  176.85238426  211.8209343    74.19459512\n",
      "   79.99887891   99.028012    103.04165583  180.99833205  116.47750237\n",
      "   80.03103039  218.50201238   68.48040349  176.62722391  527.44200282\n",
      "  104.15335986   68.67046216   86.25564579  108.47524503   65.71363726\n",
      "  148.09075415   73.15276106  219.98188996   75.33987753  114.74705678\n",
      "  239.67381306  108.78707611  208.2095781   107.58318128   89.38647935\n",
      "   99.3718211   161.1691838   192.96657471   80.43008686  130.06688194\n",
      "   61.23181735   64.08400866   92.38626606   84.45235457  192.70494132\n",
      "   62.76265048   82.43200197  203.69245692   64.75672498   75.91088831\n",
      "  125.06744957  226.02584292   87.58761061   64.72997463  159.46305609\n",
      "  193.31637571   91.02396649  203.15012694  106.740547    143.98168689\n",
      "   87.31660234   71.13771692  158.95953086   74.68679373  236.46463605\n",
      "  198.95405691   70.33720004  196.48615148   70.96177491   61.9722457\n",
      "  112.98563226   84.08661629   91.95450054  138.11633121   99.56059521\n",
      "  121.12098202  309.33249589   97.24779285   62.95038084 1783.49462749\n",
      "   86.64342648  160.0457232   278.02628076   69.97324952   61.02178444\n",
      "   76.20765982   77.31199617   93.46170639   67.71703491  395.64462791\n",
      "  156.3648294   109.43843804  110.30371027   60.17361328   71.17430934\n",
      "   84.67068317   81.34924529  111.864567    166.45174445  119.01415453\n",
      "  223.78080607   74.59869414   85.43841672   68.27791666   60.002126\n",
      "  369.79851225  132.2060487   470.66629501  183.3732878   115.62434859\n",
      "   57.87216926   64.44184945   84.8142653   112.73845735  393.60129904\n",
      "   91.08663207   82.33686137  119.11469981  334.39986246  131.78864241\n",
      "   86.54325794   82.51499701  309.97175768  136.16950096   80.76354064\n",
      "   62.06584709  113.93511862   72.97358521]\n"
     ]
    }
   ],
   "source": [
    "print(bag_of_word_tf_idf.toarray().sum(axis=0))"
   ]
  },
  {
   "cell_type": "code",
   "execution_count": 63,
   "metadata": {},
   "outputs": [],
   "source": [
    "weighted_score = bag_of_word_tf_idf.toarray().sum(axis=0)"
   ]
  },
  {
   "cell_type": "code",
   "execution_count": 65,
   "metadata": {},
   "outputs": [],
   "source": [
    "word_count_tf_idf = list(zip(feature_name, weighted_score))"
   ]
  },
  {
   "cell_type": "code",
   "execution_count": 66,
   "metadata": {},
   "outputs": [],
   "source": [
    "word_count_tf_idf.sort(key=lambda x: x[1], reverse=True)"
   ]
  },
  {
   "cell_type": "code",
   "execution_count": 67,
   "metadata": {},
   "outputs": [
    {
     "name": "stdout",
     "output_type": "stream",
     "text": [
      "[(영화, 1783.4946274887704),\n",
      " (너무, 527.4420028166095),\n",
      " (정말, 470.6662950116839),\n",
      " (이, 395.644627908417),\n",
      " (진짜, 393.60129903824867),\n",
      " (점, 369.79851225357436),\n",
      " (최고, 334.39986246340897),\n",
      " (평점, 309.97175767898597),\n",
      " (연기, 309.33249588618855),\n",
      " (왜, 278.026280763401),\n",
      " (감동, 248.12506027648115),\n",
      " (것, 241.68458611655302),\n",
      " (드라마, 239.6738130604603),\n",
      " (스토리, 236.46463604969856),\n",
      " (보고, 226.02584292307967),\n",
      " (재미, 223.78080607478134),\n",
      " (더, 219.98188995909635),\n",
      " (내, 218.5020123841697),\n",
      " (거, 218.27913711345707),\n",
      " (감독, 212.50129006666674),\n",
      " (그냥, 211.8209343027783),\n",
      " (때, 208.20957810338464),\n",
      " (배우, 203.692456920742),\n",
      " (사람, 203.1501269407179),\n",
      " (시간, 198.95405690600177),\n",
      " (쓰레기, 196.48615147794078),\n",
      " (봐, 193.31637571372437),\n",
      " (말, 192.966574711581),\n",
      " (뭐, 192.70494131580656),\n",
      " (좀, 183.37328779762282),\n",
      " (나, 180.99833204604803),\n",
      " (그, 176.85238426197566),\n",
      " (내용, 176.62722390621252),\n",
      " (작품, 166.45174445305912),\n",
      " (마지막, 161.16918379549384),\n",
      " (완전, 160.0457231975049),\n",
      " (볼, 159.46305608952963),\n",
      " (수, 158.95953085683067),\n",
      " (이건, 156.36482939887537),\n",
      " (다시, 148.09075414919113),\n",
      " (생각, 143.98168688992152),\n",
      " (액션, 138.11633120958666),\n",
      " (하나, 136.1695009627391),\n",
      " (걸, 134.16548557858192),\n",
      " (정도, 132.20604869568052),\n",
      " (최악, 131.78864240848372),\n",
      " (명작, 130.06688194040166),\n",
      " (별로, 125.0674495666568),\n",
      " (역시, 121.1209820210435),\n",
      " (처음, 119.11469980963253),\n",
      " (장면, 119.01415453104325),\n",
      " (난, 116.47750236856713),\n",
      " (주인공, 115.62434859262137),\n",
      " (돈, 114.74705678240754),\n",
      " (함, 113.93511862128459),\n",
      " (안, 112.98563226185527),\n",
      " (지금, 112.73845735223888),\n",
      " (개, 112.05597513117216),\n",
      " (임, 111.86456699976269),\n",
      " (이영화, 110.30371027054466),\n",
      " (이야기, 109.43843804170405),\n",
      " (듯, 108.78707611211432),\n",
      " (느낌, 108.4752450252144),\n",
      " (때문, 107.58318128397323),\n",
      " (사랑, 106.74054700320119),\n",
      " (년, 104.15335985939672),\n",
      " (끝, 103.0416558259133),\n",
      " (여자, 99.56059520940221),\n",
      " (마음, 99.37182109863163),\n",
      " (꼭, 99.02801199981184),\n",
      " (연출, 97.24779285478651),\n",
      " (결말, 95.9523679812906),\n",
      " (유치, 93.46170639402852),\n",
      " (못, 92.3862660600593),\n",
      " (애, 91.95450054102115),\n",
      " (짜증, 91.08663207285502),\n",
      " (분, 91.02396649095628),\n",
      " (또, 89.38647935389736),\n",
      " (보기, 87.58761061234625),\n",
      " (소재, 87.31660234031298),\n",
      " (와, 86.64342647803623),\n",
      " (코미디, 86.54325794302294),\n",
      " (눈물, 86.2556457858174),\n",
      " (가슴, 86.16699301672189),\n",
      " (전, 85.43841672304436),\n",
      " (중, 84.81426529849497),\n",
      " (인생, 84.67068316616364),\n",
      " (무슨, 84.45235457062942),\n",
      " (알, 84.0866162932721),\n",
      " (굿, 83.73302305149957),\n",
      " (편, 82.51499701234559),\n",
      " (반전, 82.43200196729076),\n",
      " (짱, 82.33686136919539),\n",
      " (일본, 81.34924529489005),\n",
      " (한국, 80.76354064441192),\n",
      " (매력, 80.43008686207091),\n",
      " (남자, 80.03103039075864),\n",
      " (기억, 79.99887890910647),\n",
      " (가장, 79.00120298782652),\n",
      " (원작, 77.31199616804945),\n",
      " (우리, 76.20765982034814),\n",
      " (별, 75.91088830597803),\n",
      " (도, 75.33987752874579),\n",
      " (수준, 74.6867937280718),\n",
      " (저, 74.59869413915655),\n",
      " (기대, 74.19459512265921),\n",
      " (대박, 73.15276106170006),\n",
      " (현실, 72.97358521152448),\n",
      " (인간, 71.17430934085785),\n",
      " (속, 71.13771692140725),\n",
      " (아이, 70.96177490965671),\n",
      " (실망, 70.33720004190606),\n",
      " (요, 69.97324951677828),\n",
      " (눈, 68.67046215770388),\n",
      " (내내, 68.48040348881436),\n",
      " (게, 68.35597442492727),\n",
      " (전개, 68.2779166583116),\n",
      " (음악, 67.71703491122396),\n",
      " (다른, 65.71363726182399),\n",
      " (번, 64.75672497700691),\n",
      " (보지, 64.72997462807773),\n",
      " (줄, 64.4418494479595),\n",
      " (모든, 64.08400866488526),\n",
      " (영상, 62.950380838281326),\n",
      " (뭔가, 62.76265047972609),\n",
      " (한번, 62.065847093141095),\n",
      " (아직, 61.97224570384927),\n",
      " (모두, 61.23181734704794),\n",
      " (요즘, 61.021784444849466),\n",
      " (공감, 60.96972495957363),\n",
      " (이해, 60.17361328078605),\n",
      " (전혀, 60.00212599848625),\n",
      " (준, 57.87216925568772)]\n"
     ]
    }
   ],
   "source": [
    "pprint(word_count_tf_idf)"
   ]
  },
  {
   "cell_type": "code",
   "execution_count": 68,
   "metadata": {},
   "outputs": [],
   "source": [
    "from sklearn.linear_model import LogisticRegression\n",
    "from sklearn.pipeline import make_pipeline\n",
    "from sklearn.model_selection import GridSearchCV"
   ]
  },
  {
   "cell_type": "code",
   "execution_count": 69,
   "metadata": {},
   "outputs": [],
   "source": [
    "twit_pipe = make_pipeline(TfidfVectorizer(tokenizer = twitter_tokenizer),\n",
    "                          LogisticRegression())"
   ]
  },
  {
   "cell_type": "code",
   "execution_count": 70,
   "metadata": {},
   "outputs": [],
   "source": [
    "twit_param_grid = {'tfidfvectorizer__min_df': [5, 7],\n",
    "#                   'tfidfvectorizer__ngram_range': [(1,1), (1,2), (1,3)],\n",
    "                   'logisticregression__C': [0.1, 1, 10]}"
   ]
  },
  {
   "cell_type": "code",
   "execution_count": 71,
   "metadata": {},
   "outputs": [],
   "source": [
    "twit_grid = GridSearchCV(twit_pipe, twit_param_grid, cv=5)"
   ]
  },
  {
   "cell_type": "code",
   "execution_count": 72,
   "metadata": {},
   "outputs": [
    {
     "data": {
      "text/plain": [
       "GridSearchCV(cv=5, error_score='raise',\n",
       "       estimator=Pipeline(memory=None,\n",
       "     steps=[('tfidfvectorizer', TfidfVectorizer(analyzer=u'word', binary=False, decode_error=u'strict',\n",
       "        dtype=<type 'numpy.int64'>, encoding=u'utf-8', input=u'content',\n",
       "        lowercase=True, max_df=1.0, max_features=None, min_df=1,\n",
       "        ngram_range=(1, 1), norm=u'l2', preprocessor=None, smoo...ty='l2', random_state=None, solver='liblinear', tol=0.0001,\n",
       "          verbose=0, warm_start=False))]),\n",
       "       fit_params=None, iid=True, n_jobs=1,\n",
       "       param_grid={'tfidfvectorizer__min_df': [5, 7], 'logisticregression__C': [0.1, 1, 10]},\n",
       "       pre_dispatch='2*n_jobs', refit=True, return_train_score='warn',\n",
       "       scoring=None, verbose=0)"
      ]
     },
     "execution_count": 72,
     "metadata": {},
     "output_type": "execute_result"
    }
   ],
   "source": [
    "twit_grid.fit(text_train, y_train)"
   ]
  },
  {
   "cell_type": "code",
   "execution_count": 73,
   "metadata": {},
   "outputs": [
    {
     "name": "stdout",
     "output_type": "stream",
     "text": [
      "0.7476\n",
      "{'tfidfvectorizer__min_df': 5, 'logisticregression__C': 1}\n"
     ]
    }
   ],
   "source": [
    "print(twit_grid.best_score_)\n",
    "print(twit_grid.best_params_)"
   ]
  },
  {
   "cell_type": "code",
   "execution_count": 74,
   "metadata": {},
   "outputs": [],
   "source": [
    "X_test_konlpy = twit_grid.best_estimator_.named_steps[\"tfidfvectorizer\"].transform(text_test)"
   ]
  },
  {
   "cell_type": "code",
   "execution_count": 75,
   "metadata": {},
   "outputs": [],
   "source": [
    "score = twit_grid.best_estimator_.named_steps['logisticregression'].score(X_test_konlpy, y_test)"
   ]
  },
  {
   "cell_type": "code",
   "execution_count": 76,
   "metadata": {},
   "outputs": [
    {
     "name": "stdout",
     "output_type": "stream",
     "text": [
      "0.72\n"
     ]
    }
   ],
   "source": [
    "print(score)"
   ]
  }
 ],
 "metadata": {
  "kernelspec": {
   "display_name": "Python 2",
   "language": "python",
   "name": "python2"
  },
  "language_info": {
   "codemirror_mode": {
    "name": "ipython",
    "version": 2
   },
   "file_extension": ".py",
   "mimetype": "text/x-python",
   "name": "python",
   "nbconvert_exporter": "python",
   "pygments_lexer": "ipython2",
   "version": "2.7.15"
  }
 },
 "nbformat": 4,
 "nbformat_minor": 2
}
